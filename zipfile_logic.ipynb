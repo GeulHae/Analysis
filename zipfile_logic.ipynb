{
  "nbformat": 4,
  "nbformat_minor": 0,
  "metadata": {
    "colab": {
      "provenance": [],
      "include_colab_link": true
    },
    "kernelspec": {
      "name": "python3",
      "display_name": "Python 3"
    },
    "language_info": {
      "name": "python"
    }
  },
  "cells": [
    {
      "cell_type": "markdown",
      "metadata": {
        "id": "view-in-github",
        "colab_type": "text"
      },
      "source": [
        "<a href=\"https://colab.research.google.com/github/GeulHae/GeulHae/blob/dev_dataAnalysis/zipfile_logic.ipynb\" target=\"_parent\"><img src=\"https://colab.research.google.com/assets/colab-badge.svg\" alt=\"Open In Colab\"/></a>"
      ]
    },
    {
      "cell_type": "code",
      "execution_count": null,
      "metadata": {
        "colab": {
          "base_uri": "https://localhost:8080/"
        },
        "id": "f1e8_7hanj6-",
        "outputId": "b2d683db-f52a-4a97-da76-372af00f86ba"
      },
      "outputs": [
        {
          "output_type": "stream",
          "name": "stdout",
          "text": [
            "Drive already mounted at /content/drive; to attempt to forcibly remount, call drive.mount(\"/content/drive\", force_remount=True).\n",
            "/content/drive/.shortcut-targets-by-id/1j9BW54eCGyF-Bam9iARPgNLFwQhHO3Kt/공유Data\n"
          ]
        }
      ],
      "source": [
        "from google.colab import drive\n",
        "drive.mount('/content/drive')\n",
        "import zipfile as zf\n",
        "import os\n",
        "\n",
        "%cd /content/drive/MyDrive/공유Data"
      ]
    },
    {
      "cell_type": "markdown",
      "source": [
        "ZIP파일 해제 - Training에서 구동 경로 기준 : Trainging(Validation)/Class폴더/ZIP 파일"
      ],
      "metadata": {
        "id": "h8dTiST8w_qL"
      }
    },
    {
      "cell_type": "code",
      "source": [
        "path = os.path.join(os.getcwd(), 'Train') # Training 혹은 Validation 폴더\n",
        "\n",
        "class_folders = os.listdir(path) # class 폴더 리스트\n",
        "\n",
        "for class_folder in class_folders: # 여러 class 폴더 중 하나의 class 폴더별로 처리\n",
        "    class_path = os.path.join(path, class_folder) # class 폴더\n",
        "    extract_path = class_path # class 폴더\n",
        "    if os.path.isdir(class_path) != True:\n",
        "      continue\n",
        "    zip_files = os.listdir(class_path) # class폴더별 zip 파일들 리스트\n",
        "    for zip_file in zip_files:\n",
        "        if zip_file.endswith('.zip'):  # 파일의 확장자가 .zip인 경우에만 처리\n",
        "            zip_file_path = os.path.join(class_path, zip_file) # zip 파일\n",
        "            if zf.is_zipfile(zip_file_path):  # 파일이 유효한 ZIP 파일(손상되지 않은 zip파일)인 경우에만 처리\n",
        "                with zf.ZipFile(zip_file_path, 'r') as files: # files = zip 파일 내 file들\n",
        "                    files.extractall(path=extract_path)\n",
        "            else:\n",
        "                print(f\"{zip_file_path} is not a valid zip file, skip extracting...\")"
      ],
      "metadata": {
        "id": "pPP6BseLxAEH"
      },
      "execution_count": null,
      "outputs": []
    },
    {
      "cell_type": "markdown",
      "source": [
        "ZIP파일 해제 - Validation에서 구동\n",
        "경로 기준 : Validation/Class폴더/ZIP 파일"
      ],
      "metadata": {
        "id": "TG9Jm3K7wWdj"
      }
    },
    {
      "cell_type": "code",
      "source": [
        "path = os.path.join(os.getcwd(), 'Valid') # Training 혹은 Validation 폴더\n",
        "\n",
        "class_folders = os.listdir(path) # class 폴더 리스트\n",
        "\n",
        "for class_folder in class_folders: # 여러 class 폴더 중 하나의 class 폴더별로 처리\n",
        "    class_path = os.path.join(path, class_folder) # class 폴더\n",
        "    extract_path = class_path # class 폴더\n",
        "    if os.path.isdir(class_path) != True:\n",
        "      continue\n",
        "    zip_files = os.listdir(class_path) # class폴더별 zip 파일들 리스트\n",
        "    for zip_file in zip_files:\n",
        "        if zip_file.endswith('.zip'):  # 파일의 확장자가 .zip인 경우에만 처리\n",
        "            zip_file_path = os.path.join(class_path, zip_file) # zip 파일\n",
        "            if zf.is_zipfile(zip_file_path):  # 파일이 유효한 ZIP 파일(손상되지 않은 zip파일)인 경우에만 처리\n",
        "                with zf.ZipFile(zip_file_path, 'r') as files: # files = zip 파일 내 file들\n",
        "                    files.extractall(path=extract_path)\n",
        "            else:\n",
        "                print(f\"{zip_file_path} is not a valid zip file, skip extracting...\")"
      ],
      "metadata": {
        "id": "Ma1JVw03p6eH"
      },
      "execution_count": null,
      "outputs": []
    },
    {
      "cell_type": "code",
      "source": [],
      "metadata": {
        "id": "q7bP_nP1p6hG"
      },
      "execution_count": null,
      "outputs": []
    },
    {
      "cell_type": "markdown",
      "source": [
        "ZIP파일 해제 - Training 혹은 Validation에서 구동\n",
        "경로 기준 : Trainging(Validation)/ZIP 파일"
      ],
      "metadata": {
        "id": "Bv7BKEZGwRKI"
      }
    },
    {
      "cell_type": "code",
      "source": [
        "import zipfile as zf\n",
        "import os\n",
        "\n",
        "path = os.getcwd() + '/Train' # Training 혹은 Validation 폴더\n",
        "print(path)\n",
        "class_folders = os.listdir(path) # class 폴더 리스트\n",
        "\n",
        "extract_path = path # Training 혹은 Validation 폴더\n",
        "zip_files = os.listdir(path) # Training 혹은 Validation 폴더 내 폴더 혹은 파일들 리스트\n",
        "for zip_file in zip_files:\n",
        "    if zip_file.endswith('.zip'):  # 파일의 확장자가 .zip인 경우에만 처리\n",
        "        zip_file_path = os.path.join(path, zip_file) # zip 파일\n",
        "        if zf.is_zipfile(zip_file_path):  # 파일이 유효한 ZIP 파일(손상되지 않은 zip파일)인 경우에만 처리\n",
        "            with zf.ZipFile(zip_file_path, 'r') as files: # files = zip 파일 내 file들\n",
        "                files.extractall(path=extract_path)\n",
        "        else:\n",
        "            print(f\"{zip_file_path} is not a valid zip file, skip extracting...\")"
      ],
      "metadata": {
        "id": "uZCu1xPpp6j0"
      },
      "execution_count": null,
      "outputs": []
    }
  ]
}