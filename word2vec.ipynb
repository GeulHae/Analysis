{
  "nbformat": 4,
  "nbformat_minor": 0,
  "metadata": {
    "accelerator": "GPU",
    "colab": {
      "provenance": [],
      "include_colab_link": true
    },
    "kernelspec": {
      "display_name": "Python 3",
      "language": "python",
      "name": "python3"
    },
    "language_info": {
      "codemirror_mode": {
        "name": "ipython",
        "version": 3
      },
      "file_extension": ".py",
      "mimetype": "text/x-python",
      "name": "python",
      "nbconvert_exporter": "python",
      "pygments_lexer": "ipython3",
      "version": "3.8.8"
    }
  },
  "cells": [
    {
      "cell_type": "markdown",
      "metadata": {
        "id": "view-in-github",
        "colab_type": "text"
      },
      "source": [
        "<a href=\"https://colab.research.google.com/github/GeulHae/GeulHae/blob/dev_dataAnalysis/word2vec.ipynb\" target=\"_parent\"><img src=\"https://colab.research.google.com/assets/colab-badge.svg\" alt=\"Open In Colab\"/></a>"
      ]
    },
    {
      "cell_type": "code",
      "source": [
        "from google.colab import drive\n",
        "drive.mount('/content/drive')"
      ],
      "metadata": {
        "colab": {
          "base_uri": "https://localhost:8080/"
        },
        "id": "Ka2izFG2u-QC",
        "outputId": "ae130655-49bc-41a7-f64a-df83b3ef88c5"
      },
      "execution_count": 1,
      "outputs": [
        {
          "output_type": "stream",
          "name": "stdout",
          "text": [
            "Mounted at /content/drive\n"
          ]
        }
      ]
    },
    {
      "cell_type": "code",
      "source": [
        "!pip install gensim==3.8.3 "
      ],
      "metadata": {
        "id": "aLSqP4XHvpJJ",
        "colab": {
          "base_uri": "https://localhost:8080/"
        },
        "outputId": "921b3ef8-79ef-4ae2-ae41-656e1ae12b75"
      },
      "execution_count": 2,
      "outputs": [
        {
          "output_type": "stream",
          "name": "stdout",
          "text": [
            "Looking in indexes: https://pypi.org/simple, https://us-python.pkg.dev/colab-wheels/public/simple/\n",
            "Collecting gensim==3.8.3\n",
            "  Downloading gensim-3.8.3.tar.gz (23.4 MB)\n",
            "\u001b[2K     \u001b[90m━━━━━━━━━━━━━━━━━━━━━━━━━━━━━━━━━━━━━━━━\u001b[0m \u001b[32m23.4/23.4 MB\u001b[0m \u001b[31m63.4 MB/s\u001b[0m eta \u001b[36m0:00:00\u001b[0m\n",
            "\u001b[?25h  Preparing metadata (setup.py) ... \u001b[?25l\u001b[?25hdone\n",
            "Requirement already satisfied: numpy>=1.11.3 in /usr/local/lib/python3.9/dist-packages (from gensim==3.8.3) (1.22.4)\n",
            "Requirement already satisfied: scipy>=0.18.1 in /usr/local/lib/python3.9/dist-packages (from gensim==3.8.3) (1.10.1)\n",
            "Requirement already satisfied: six>=1.5.0 in /usr/local/lib/python3.9/dist-packages (from gensim==3.8.3) (1.16.0)\n",
            "Requirement already satisfied: smart_open>=1.8.1 in /usr/local/lib/python3.9/dist-packages (from gensim==3.8.3) (6.3.0)\n",
            "Building wheels for collected packages: gensim\n",
            "  Building wheel for gensim (setup.py) ... \u001b[?25l\u001b[?25hdone\n",
            "  Created wheel for gensim: filename=gensim-3.8.3-cp39-cp39-linux_x86_64.whl size=26528006 sha256=abf121712e87de4792a22944d2c010dc1f4567d9a8cb33a22c7a56307d80e44b\n",
            "  Stored in directory: /root/.cache/pip/wheels/ca/5d/af/618594ec2f28608c1d6ee7d2b7e95a3e9b06551e3b80a491d6\n",
            "Successfully built gensim\n",
            "Installing collected packages: gensim\n",
            "  Attempting uninstall: gensim\n",
            "    Found existing installation: gensim 4.3.1\n",
            "    Uninstalling gensim-4.3.1:\n",
            "      Successfully uninstalled gensim-4.3.1\n",
            "Successfully installed gensim-3.8.3\n"
          ]
        }
      ]
    },
    {
      "cell_type": "markdown",
      "metadata": {
        "id": "9eDwzKL8ABg7"
      },
      "source": [
        "## Gensim - Word2vec"
      ]
    },
    {
      "cell_type": "code",
      "metadata": {
        "id": "tD4wVhUI5s1_"
      },
      "source": [
        "from gensim.models.keyedvectors import KeyedVectors\n",
        "!cp /content/drive/MyDrive/GoogleNews-vectors-negative300.bin.gz .\n",
        "!gunzip -k GoogleNews-vectors-negative300.bin.gz"
      ],
      "execution_count": 1,
      "outputs": []
    },
    {
      "cell_type": "code",
      "metadata": {
        "id": "rO3BP34qKBBb",
        "colab": {
          "base_uri": "https://localhost:8080/"
        },
        "outputId": "b2c078a6-76ce-442e-f1b6-8d7fc9d5a3c8"
      },
      "source": [
        "# 은닉층 n개 , google에서는 300개\n",
        "model = KeyedVectors.load_word2vec_format(\"./GoogleNews-vectors-negative300.bin\",binary=True,limit=60000)\n",
        "print(model['apple'])\n",
        "\n",
        "# apple에 대한 분산 표현"
      ],
      "execution_count": 3,
      "outputs": [
        {
          "output_type": "stream",
          "name": "stdout",
          "text": [
            "[-0.06445312 -0.16015625 -0.01208496  0.13476562 -0.22949219  0.16210938\n",
            "  0.3046875  -0.1796875  -0.12109375  0.25390625 -0.01428223 -0.06396484\n",
            " -0.08056641 -0.05688477 -0.19628906  0.2890625  -0.05151367  0.14257812\n",
            " -0.10498047 -0.04736328 -0.34765625  0.35742188  0.265625    0.00188446\n",
            " -0.01586914  0.00195312 -0.35546875  0.22167969  0.05761719  0.15917969\n",
            "  0.08691406 -0.0267334  -0.04785156  0.23925781 -0.05981445  0.0378418\n",
            "  0.17382812 -0.41796875  0.2890625   0.32617188  0.02429199 -0.01647949\n",
            " -0.06494141 -0.08886719  0.07666016 -0.15136719  0.05249023 -0.04199219\n",
            " -0.05419922  0.00108337 -0.20117188  0.12304688  0.09228516  0.10449219\n",
            " -0.00408936 -0.04199219  0.01409912 -0.02111816 -0.13476562 -0.24316406\n",
            "  0.16015625 -0.06689453 -0.08984375 -0.07177734 -0.00595093 -0.00482178\n",
            " -0.00089264 -0.30664062 -0.0625      0.07958984 -0.00909424 -0.04492188\n",
            "  0.09960938 -0.33398438 -0.3984375   0.05541992 -0.06689453 -0.04467773\n",
            "  0.11767578 -0.13964844 -0.26367188  0.17480469 -0.17382812 -0.40625\n",
            " -0.06738281 -0.07617188  0.09423828  0.20996094 -0.16308594 -0.08691406\n",
            " -0.0534668  -0.10351562 -0.07617188 -0.11083984 -0.03515625 -0.14941406\n",
            "  0.0378418   0.38671875  0.14160156 -0.2890625  -0.16894531 -0.140625\n",
            " -0.04174805  0.22753906  0.24023438 -0.01599121 -0.06787109  0.21875\n",
            " -0.42382812 -0.5625     -0.49414062 -0.3359375   0.13378906  0.01141357\n",
            "  0.13671875  0.0324707   0.06835938 -0.27539062 -0.15917969  0.00121307\n",
            "  0.01208496 -0.0039978   0.00442505 -0.04541016  0.08642578  0.09960938\n",
            " -0.04296875 -0.11328125  0.13867188  0.41796875 -0.28320312 -0.07373047\n",
            " -0.11425781  0.08691406 -0.02148438  0.328125   -0.07373047 -0.01348877\n",
            "  0.17773438 -0.02624512  0.13378906 -0.11132812 -0.12792969 -0.12792969\n",
            "  0.18945312 -0.13867188  0.29882812 -0.07714844 -0.37695312 -0.10351562\n",
            "  0.16992188 -0.10742188 -0.29882812  0.00866699 -0.27734375 -0.20996094\n",
            " -0.1796875  -0.19628906 -0.22167969  0.08886719 -0.27734375 -0.13964844\n",
            "  0.15917969  0.03637695  0.03320312 -0.08105469  0.25390625 -0.08691406\n",
            " -0.21289062 -0.18945312 -0.22363281  0.06542969 -0.16601562  0.08837891\n",
            " -0.359375   -0.09863281  0.35546875 -0.00741577  0.19042969  0.16992188\n",
            " -0.06005859 -0.20605469  0.08105469  0.12988281 -0.01135254  0.33203125\n",
            " -0.08691406  0.27539062 -0.03271484  0.12011719 -0.0625      0.1953125\n",
            " -0.10986328 -0.11767578  0.20996094  0.19921875  0.02954102 -0.16015625\n",
            "  0.00276184 -0.01367188  0.03442383 -0.19335938  0.00352478 -0.06542969\n",
            " -0.05566406  0.09423828  0.29296875  0.04052734 -0.09326172 -0.10107422\n",
            " -0.27539062  0.04394531 -0.07275391  0.13867188  0.02380371  0.13085938\n",
            "  0.00236511 -0.2265625   0.34765625  0.13574219  0.05224609  0.18164062\n",
            "  0.0402832   0.23730469 -0.16992188  0.10058594  0.03833008  0.10839844\n",
            " -0.05615234 -0.00946045  0.14550781 -0.30078125 -0.32226562  0.18847656\n",
            " -0.40234375 -0.3125     -0.08007812 -0.26757812  0.16699219  0.07324219\n",
            "  0.06347656  0.06591797  0.17285156 -0.17773438  0.00276184 -0.05761719\n",
            " -0.2265625  -0.19628906  0.09667969  0.13769531 -0.49414062 -0.27929688\n",
            "  0.12304688 -0.30078125  0.01293945 -0.1875     -0.20898438 -0.1796875\n",
            " -0.16015625 -0.03295898  0.00976562  0.25390625 -0.25195312  0.00210571\n",
            "  0.04296875  0.01184082 -0.20605469  0.24804688 -0.203125   -0.17773438\n",
            "  0.07275391  0.04541016  0.21679688 -0.2109375   0.14550781 -0.16210938\n",
            "  0.20410156 -0.19628906 -0.35742188  0.35742188 -0.11962891  0.35742188\n",
            "  0.10351562  0.07080078 -0.24707031 -0.10449219 -0.19238281  0.1484375\n",
            "  0.00057983  0.296875   -0.12695312 -0.03979492  0.13183594 -0.16601562\n",
            "  0.125       0.05126953 -0.14941406  0.13671875 -0.02075195  0.34375   ]\n"
          ]
        }
      ]
    },
    {
      "cell_type": "code",
      "metadata": {
        "id": "CZItBMRqciRb",
        "colab": {
          "base_uri": "https://localhost:8080/"
        },
        "outputId": "71a5d56f-afc2-47d9-a587-31fd04834a19"
      },
      "source": [
        "print(\"similarity between apple and fruit: {:.3f}\".format(model.similarity(\"apple\", \"fruit\")))\n",
        "print(\"similarity between apple and car: {:.3f}\".format(model.similarity(\"apple\", \"car\")))\n",
        "print(model.most_similar(\"apple\", topn=10))\n",
        "# apple과 가장 유사한 단어 10개 출력"
      ],
      "execution_count": 5,
      "outputs": [
        {
          "output_type": "stream",
          "name": "stdout",
          "text": [
            "similarity between apple and fruit: 0.641\n",
            "similarity between apple and car: 0.128\n",
            "[('apples', 0.7203598022460938), ('pear', 0.6450696587562561), ('fruit', 0.6410146355628967), ('berry', 0.6302294731140137), ('pears', 0.6133961081504822), ('strawberry', 0.6058261394500732), ('peach', 0.6025873422622681), ('potato', 0.596093475818634), ('grape', 0.5935864448547363), ('blueberry', 0.5866668224334717)]\n"
          ]
        }
      ]
    },
    {
      "cell_type": "code",
      "metadata": {
        "id": "XiwreORHAc8k",
        "colab": {
          "base_uri": "https://localhost:8080/"
        },
        "outputId": "6c7d2324-7297-479a-9c4d-c450cc480a6c"
      },
      "source": [
        "print(model.most_similar(positive=['king', 'women'], negative=['man'], topn=3))"
      ],
      "execution_count": 6,
      "outputs": [
        {
          "output_type": "stream",
          "name": "stdout",
          "text": [
            "[('queen', 0.4827326238155365), ('queens', 0.466781347990036), ('kings', 0.4558638632297516)]\n"
          ]
        }
      ]
    },
    {
      "cell_type": "code",
      "metadata": {
        "id": "PbnlvnI5Hbtu",
        "colab": {
          "base_uri": "https://localhost:8080/"
        },
        "outputId": "91d9cd42-b9ec-4c5d-d230-a34d5350a511"
      },
      "source": [
        "print(model.most_similar(positive=['dog', 'child'], negative=['adult'], topn=3))"
      ],
      "execution_count": 7,
      "outputs": [
        {
          "output_type": "stream",
          "name": "stdout",
          "text": [
            "[('puppy', 0.6720112562179565), ('pooch', 0.6400539875030518), ('pup', 0.612525224685669)]\n"
          ]
        }
      ]
    },
    {
      "cell_type": "code",
      "metadata": {
        "id": "ZvfSv1wWAY0a"
      },
      "source": [
        "from gensim.models import Word2Vec\n",
        "from gensim.models.word2vec import LineSentence\n",
        "\n",
        "sentences = LineSentence(\"/content/drive/MyDrive/news1.txt\")  #문장 넣어주기기\n",
        "model = Word2Vec(sentences, size=100, window=5, min_count=1, workers=4) \n",
        "#size: Embedding 차원 수 (구글 word2vec은 300)\n",
        "#window: 한쪽 방향의 주변 context 단어 수  _ _ _ _ _ apple _ _ _ _ _\n",
        "#min_count: 학습에 사용할 단어의 최소 빈도수 (min_count 이하로 출현한 단어들은 사용하지 않음 -> 이 예시에서는 2번은 나와야 학습할겨)\n",
        "#workers: 분산 처리를 위해 사용할 쓰레드 수 (보통은 4개정도 씀씀) (학습 속도가 빨라짐)\n",
        "#sg: 1이면 skip-gram 사용, 0이면 cbow 사용. 기본값은 cbow\n",
        "model.save(\"word2vec.model\")"
      ],
      "execution_count": 9,
      "outputs": []
    },
    {
      "cell_type": "code",
      "metadata": {
        "id": "LidyGIPtAbGV",
        "colab": {
          "base_uri": "https://localhost:8080/"
        },
        "outputId": "63695a6e-1111-4519-c98a-3e306aaeaa07"
      },
      "source": [
        "model = Word2Vec.load(\"word2vec.model\")\n",
        "print(model.wv.most_similar(\"hamster\", topn=3))\n",
        "print(len(model.wv.vocab))"
      ],
      "execution_count": 10,
      "outputs": [
        {
          "output_type": "stream",
          "name": "stdout",
          "text": [
            "[('tracksuit', 0.8247638940811157), ('hooded', 0.8086415529251099), ('collar', 0.7891501784324646)]\n",
            "191710\n"
          ]
        }
      ]
    },
    {
      "cell_type": "code",
      "metadata": {
        "id": "NzS0dvdjLs_c",
        "colab": {
          "base_uri": "https://localhost:8080/"
        },
        "outputId": "6ba91e81-24d3-4b0a-a70c-298dfaa21d6d"
      },
      "source": [
        "print(model.wv['rabbit'])"
      ],
      "execution_count": 11,
      "outputs": [
        {
          "output_type": "stream",
          "name": "stdout",
          "text": [
            "[-0.1839811  -0.06779671 -0.15755875  0.24327025  0.07966031 -0.11365288\n",
            " -0.06715042  0.03004945 -0.26294795  0.01140342 -0.15879191 -0.08171547\n",
            " -0.06637989 -0.02074106 -0.00248362  0.09000294 -0.12041786 -0.32978404\n",
            " -0.17962982 -0.04661988 -0.02806244 -0.0779971   0.03169127 -0.08286778\n",
            " -0.20102905 -0.02105972  0.01643189 -0.07298218 -0.12953931  0.15864278\n",
            " -0.04670896  0.06783103 -0.15327342  0.16096123  0.14423922  0.2712927\n",
            "  0.16892272 -0.09976463 -0.09599965  0.01736802 -0.05730059 -0.16472109\n",
            "  0.07616682  0.27098754 -0.09547082 -0.06358732 -0.20935562  0.07692336\n",
            " -0.04209147 -0.05089524 -0.262585    0.13151164  0.07243612  0.03278935\n",
            " -0.0512259   0.32412404 -0.12435526  0.1605021   0.09897988  0.02099891\n",
            " -0.09116337 -0.01970497 -0.10455875  0.04907349  0.01710924 -0.03433032\n",
            "  0.09664908  0.06311959 -0.05636905 -0.06553886 -0.1550367  -0.01793511\n",
            " -0.07166695  0.00152369 -0.11365085 -0.21406516  0.00261441 -0.05766854\n",
            " -0.05069413 -0.08658663  0.06712314  0.11488242  0.11153912  0.15320559\n",
            " -0.12527302 -0.08928338  0.06571212  0.04614583 -0.05931441  0.03181468\n",
            "  0.06960982 -0.06749567 -0.05443648  0.07163718 -0.02535563  0.15955338\n",
            "  0.12265601 -0.08879717 -0.03256028 -0.03174101]\n"
          ]
        }
      ]
    }
  ]
}