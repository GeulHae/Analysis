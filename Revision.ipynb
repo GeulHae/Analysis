{
  "nbformat": 4,
  "nbformat_minor": 0,
  "metadata": {
    "colab": {
      "provenance": [],
      "authorship_tag": "ABX9TyMrrkDPI5Ib+L2C35Y/AQpY",
      "include_colab_link": true
    },
    "kernelspec": {
      "name": "python3",
      "display_name": "Python 3"
    },
    "language_info": {
      "name": "python"
    }
  },
  "cells": [
    {
      "cell_type": "markdown",
      "metadata": {
        "id": "view-in-github",
        "colab_type": "text"
      },
      "source": [
        "<a href=\"https://colab.research.google.com/github/GeulHae/GeulHae/blob/dev_dataAnalysis/Revision.ipynb\" target=\"_parent\"><img src=\"https://colab.research.google.com/assets/colab-badge.svg\" alt=\"Open In Colab\"/></a>"
      ]
    },
    {
      "cell_type": "markdown",
      "source": [
        "# 2023Y 2Q 사업Revision\n",
        "\n",
        "<br>\n",
        "\n",
        "## 1. 가동률\n",
        "### 1) 전체모수(M/M), 가동수(M/M), 비가동수(M/M), Overbooking\n",
        "### 2) 개인별 가동율 Max, Min, Mean / 편차 1 시그마, 중앙값(Me), 최빈값(Mo)   \n",
        "<br>\n",
        "\n",
        "\n",
        "\n",
        "## 2. 정량성과 집행율\n",
        "### 개인별 Max, Min / 편차 1 시그마, 중앙값(Me), 최빈값(Mo)  "
      ],
      "metadata": {
        "id": "-MzfPYE8uIbS"
      }
    },
    {
      "cell_type": "code",
      "execution_count": null,
      "metadata": {
        "id": "k3TGSJDduHrl"
      },
      "outputs": [],
      "source": [
        "import pandas as pd\n",
        "import numpy as np\n",
        "\n",
        "import matpolotlib"
      ]
    }
  ]
}