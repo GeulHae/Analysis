{
  "nbformat": 4,
  "nbformat_minor": 0,
  "metadata": {
    "colab": {
      "provenance": [],
      "authorship_tag": "ABX9TyP4sCr6YSSYZUWN/EMP9bYt",
      "include_colab_link": true
    },
    "kernelspec": {
      "name": "python3",
      "display_name": "Python 3"
    },
    "language_info": {
      "name": "python"
    }
  },
  "cells": [
    {
      "cell_type": "markdown",
      "metadata": {
        "id": "view-in-github",
        "colab_type": "text"
      },
      "source": [
        "<a href=\"https://colab.research.google.com/github/GeulHae/GeulHae/blob/dev_dataAnalysis/Revision.ipynb\" target=\"_parent\"><img src=\"https://colab.research.google.com/assets/colab-badge.svg\" alt=\"Open In Colab\"/></a>"
      ]
    },
    {
      "cell_type": "markdown",
      "source": [
        "# 2023Y 2Q 사업Revision\n",
        "\n",
        "<br>\n",
        "\n",
        "## 1. 가동률\n",
        "### 1) 전체모수(M/M), 가동수(M/M), 비가동수(M/M), Overbooking\n",
        "### 2) 개인별 가동율 Max, Min, Mean / 편차 1 시그마, 중앙값(Me), 최빈값(Mo)   \n",
        "<br>\n",
        "\n",
        "\n",
        "\n",
        "## 2. 정량성과 집행율\n",
        "### 개인별 Max, Min / 편차 1 시그마, 중앙값(Me), 최빈값(Mo)  "
      ],
      "metadata": {
        "id": "-MzfPYE8uIbS"
      }
    },
    {
      "cell_type": "code",
      "execution_count": null,
      "metadata": {
        "id": "k3TGSJDduHrl"
      },
      "outputs": [],
      "source": [
        "import pandas as pd\n",
        "import numpy as np\n",
        "\n",
        "import matplotlib as mpl\n",
        "import matplotlib.pyplot as plt\n",
        "import seaborn as sns\n",
        "import missingno as msno\n",
        "import plotly.express as px\n"
      ]
    },
    {
      "cell_type": "code",
      "source": [
        "df1 = pd.read_csv('.csv')"
      ],
      "metadata": {
        "id": "D6lFHK5FwbXs"
      },
      "execution_count": null,
      "outputs": []
    },
    {
      "cell_type": "code",
      "source": [
        "df1.info()"
      ],
      "metadata": {
        "id": "hC9_3H5IwcT3"
      },
      "execution_count": null,
      "outputs": []
    },
    {
      "cell_type": "code",
      "source": [
        "df1[''].unique()"
      ],
      "metadata": {
        "id": "RU-9tTujwrOL"
      },
      "execution_count": null,
      "outputs": []
    },
    {
      "cell_type": "code",
      "source": [
        "df1[''].value_counts()"
      ],
      "metadata": {
        "id": "CaxBV0_6wrFo"
      },
      "execution_count": null,
      "outputs": []
    },
    {
      "cell_type": "code",
      "source": [
        "df1[''].mean()"
      ],
      "metadata": {
        "id": "_rskOPZewqr_"
      },
      "execution_count": null,
      "outputs": []
    },
    {
      "cell_type": "code",
      "source": [
        "df1[''].median()"
      ],
      "metadata": {
        "id": "I6lFNtUcw6S4"
      },
      "execution_count": null,
      "outputs": []
    },
    {
      "cell_type": "code",
      "source": [
        "df1[''].std()"
      ],
      "metadata": {
        "id": "NMsRLzCRw6zz"
      },
      "execution_count": null,
      "outputs": []
    },
    {
      "cell_type": "code",
      "source": [
        "df1[''].min()"
      ],
      "metadata": {
        "id": "cR1TFH50xCVO"
      },
      "execution_count": null,
      "outputs": []
    },
    {
      "cell_type": "code",
      "source": [
        "df1[''].max()"
      ],
      "metadata": {
        "id": "xQ2Cx5P9xCMT"
      },
      "execution_count": null,
      "outputs": []
    },
    {
      "cell_type": "code",
      "source": [
        "# 사분범위 (Inter Quantile Range , IQR ) :\n",
        "# 중위수를 기준으로 전체 데이터의 50%가 분포해 있는 범위\n",
        "\n",
        "df1[''].describe()"
      ],
      "metadata": {
        "id": "0uBhp8jXxB-S"
      },
      "execution_count": null,
      "outputs": []
    },
    {
      "cell_type": "code",
      "source": [
        "# 층별화 (범주형 항목에 대해 데이터를 나누어 확인)\n",
        "\n",
        "# NaN : Not A Number / 결측값\n",
        "# fill_value=  : Pivot Table결과에서 결측값을 다른 값으로 대체\n",
        "\n",
        "df1.pivot_table(index='', values='', columns='', aggfunc=['mean', 'median', 'min', 'max'], fill_value=0)\n"
      ],
      "metadata": {
        "id": "eC1T3QtOxbNP"
      },
      "execution_count": null,
      "outputs": []
    }
  ]
}