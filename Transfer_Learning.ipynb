{
  "nbformat": 4,
  "nbformat_minor": 0,
  "metadata": {
    "colab": {
      "provenance": [],
      "include_colab_link": true
    },
    "kernelspec": {
      "name": "python3",
      "display_name": "Python 3"
    },
    "language_info": {
      "name": "python"
    },
    "gpuClass": "standard",
    "accelerator": "GPU"
  },
  "cells": [
    {
      "cell_type": "markdown",
      "metadata": {
        "id": "view-in-github",
        "colab_type": "text"
      },
      "source": [
        "<a href=\"https://colab.research.google.com/github/GeulHae/GeulHae/blob/dev_dataAnalysis/Transfer_Learning.ipynb\" target=\"_parent\"><img src=\"https://colab.research.google.com/assets/colab-badge.svg\" alt=\"Open In Colab\"/></a>"
      ]
    },
    {
      "cell_type": "code",
      "execution_count": 1,
      "metadata": {
        "id": "eyKeqPWqOgV1"
      },
      "outputs": [],
      "source": [
        "import os\n",
        "import zipfile\n",
        "import cv2\n",
        "import shutil\n",
        "import numpy as np\n",
        "import pandas as pd\n",
        "import tensorflow as tf\n",
        "from tensorflow.keras.models import Sequential, Model\n",
        "from tensorflow.keras.layers import Dense, Dropout, Input\n",
        "from tensorflow.keras.applications import MobileNet, Xception, ResNet50, InceptionV3\n",
        "from tensorflow.keras.layers import Flatten, Conv2D, MaxPooling2D\n",
        "from tensorflow.keras.preprocessing.image import ImageDataGenerator"
      ]
    },
    {
      "cell_type": "code",
      "source": [
        "device_name = tf.test.gpu_device_name()\n",
        "if device_name != '/device:GPU:0':\n",
        "  print(\n",
        "      '\\n\\nThis error most likely means that this notebook is not '\n",
        "      'configured to use a GPU.  Change this in Notebook Settings via the '\n",
        "      'command palette (cmd/ctrl-shift-P) or the Edit menu.\\n\\n')\n",
        "  raise SystemError('GPU device not found')\n",
        "\n",
        "print(device_name)"
      ],
      "metadata": {
        "id": "nGMWCEmRnQft",
        "colab": {
          "base_uri": "https://localhost:8080/"
        },
        "outputId": "ac72e393-7748-4d46-a6f8-06d111ffcdeb"
      },
      "execution_count": 2,
      "outputs": [
        {
          "output_type": "stream",
          "name": "stdout",
          "text": [
            "/device:GPU:0\n"
          ]
        }
      ]
    },
    {
      "cell_type": "code",
      "source": [
        "!wget https://storage.googleapis.com/mledu-datasets/cats_and_dogs_filtered.zip"
      ],
      "metadata": {
        "id": "coy1F3VaR37Y",
        "colab": {
          "base_uri": "https://localhost:8080/"
        },
        "outputId": "282eae66-ad9b-4edc-9264-af71c567dc62"
      },
      "execution_count": 3,
      "outputs": [
        {
          "output_type": "stream",
          "name": "stdout",
          "text": [
            "--2023-04-10 02:06:26--  https://storage.googleapis.com/mledu-datasets/cats_and_dogs_filtered.zip\n",
            "Resolving storage.googleapis.com (storage.googleapis.com)... 173.194.193.128, 173.194.194.128, 173.194.195.128, ...\n",
            "Connecting to storage.googleapis.com (storage.googleapis.com)|173.194.193.128|:443... connected.\n",
            "HTTP request sent, awaiting response... 200 OK\n",
            "Length: 68606236 (65M) [application/zip]\n",
            "Saving to: ‘cats_and_dogs_filtered.zip’\n",
            "\n",
            "cats_and_dogs_filte 100%[===================>]  65.43M   159MB/s    in 0.4s    \n",
            "\n",
            "2023-04-10 02:06:27 (159 MB/s) - ‘cats_and_dogs_filtered.zip’ saved [68606236/68606236]\n",
            "\n"
          ]
        }
      ]
    },
    {
      "cell_type": "code",
      "source": [
        "# 압축해제\n",
        "with zipfile.ZipFile('/content/cats_and_dogs_filtered.zip', 'r') as z:\n",
        "    z.extractall()"
      ],
      "metadata": {
        "id": "ukD9R_DoOjJ2"
      },
      "execution_count": 4,
      "outputs": []
    },
    {
      "cell_type": "code",
      "source": [
        "# 이 폴더 안에 파일 목록 보여줘 .listdir / len 이용해서 파일 수 확인 \n",
        "print(len(os.listdir('/content/cats_and_dogs_filtered/train/cats')))\n",
        "print(len(os.listdir('/content/cats_and_dogs_filtered/train/dogs')))\n",
        "\n",
        "print(len(os.listdir('/content/cats_and_dogs_filtered/validation/cats')))\n",
        "print(len(os.listdir('/content/cats_and_dogs_filtered/validation/dogs')))"
      ],
      "metadata": {
        "id": "uY8tffsDYaGy",
        "colab": {
          "base_uri": "https://localhost:8080/"
        },
        "outputId": "adf822f7-1021-4455-ea1a-43a2732ca393"
      },
      "execution_count": 13,
      "outputs": [
        {
          "output_type": "stream",
          "name": "stdout",
          "text": [
            "1000\n",
            "1000\n",
            "500\n",
            "500\n"
          ]
        }
      ]
    },
    {
      "cell_type": "markdown",
      "source": [
        "train data -> 1000개\n",
        "validation data -> 300개\n",
        "test data -> 200개"
      ],
      "metadata": {
        "id": "HlwvrV74ZESO"
      }
    },
    {
      "cell_type": "code",
      "source": [
        "#현재 디렉토리 확인\n",
        "print(os.getcwd())\n",
        "\n",
        "# 새로운 폴더에 파일 옮기기 / 이 경로를 합쳐줘~\n",
        "root_dir = os.path.join(os.getcwd(), 'dogs_cats')\n",
        "print(root_dir)\n",
        "#현재 디렉토리에 dog_cats 폴더 생성\n",
        "os.mkdir(root_dir)\n",
        "\n",
        "#현재 디렉토리 변경\n",
        "os.chdir(root_dir)\n",
        "print(os.getcwd())"
      ],
      "metadata": {
        "id": "pov-Eo90T9Wn",
        "colab": {
          "base_uri": "https://localhost:8080/",
          "height": 277
        },
        "outputId": "65e1b349-f6fd-4aa3-8e60-20ecec27b872"
      },
      "execution_count": 14,
      "outputs": [
        {
          "output_type": "stream",
          "name": "stdout",
          "text": [
            "/content\n",
            "/content/dogs_cats\n"
          ]
        },
        {
          "output_type": "error",
          "ename": "FileExistsError",
          "evalue": "ignored",
          "traceback": [
            "\u001b[0;31m---------------------------------------------------------------------------\u001b[0m",
            "\u001b[0;31mFileExistsError\u001b[0m                           Traceback (most recent call last)",
            "\u001b[0;32m<ipython-input-14-f50900245c1b>\u001b[0m in \u001b[0;36m<cell line: 8>\u001b[0;34m()\u001b[0m\n\u001b[1;32m      6\u001b[0m \u001b[0mprint\u001b[0m\u001b[0;34m(\u001b[0m\u001b[0mroot_dir\u001b[0m\u001b[0;34m)\u001b[0m\u001b[0;34m\u001b[0m\u001b[0;34m\u001b[0m\u001b[0m\n\u001b[1;32m      7\u001b[0m \u001b[0;31m#현재 디렉토리에 dog_cats 폴더 생성\u001b[0m\u001b[0;34m\u001b[0m\u001b[0;34m\u001b[0m\u001b[0m\n\u001b[0;32m----> 8\u001b[0;31m \u001b[0mos\u001b[0m\u001b[0;34m.\u001b[0m\u001b[0mmkdir\u001b[0m\u001b[0;34m(\u001b[0m\u001b[0mroot_dir\u001b[0m\u001b[0;34m)\u001b[0m\u001b[0;34m\u001b[0m\u001b[0;34m\u001b[0m\u001b[0m\n\u001b[0m\u001b[1;32m      9\u001b[0m \u001b[0;34m\u001b[0m\u001b[0m\n\u001b[1;32m     10\u001b[0m \u001b[0;31m#현재 디렉토리 변경\u001b[0m\u001b[0;34m\u001b[0m\u001b[0;34m\u001b[0m\u001b[0m\n",
            "\u001b[0;31mFileExistsError\u001b[0m: [Errno 17] File exists: '/content/dogs_cats'"
          ]
        }
      ]
    },
    {
      "cell_type": "code",
      "source": [
        "#train용 폴더 생성\n",
        "train_set_dir = os.path.join(root_dir, 'train_set')\n",
        "print(train_set_dir)\n",
        "os.mkdir(train_set_dir)\n",
        "\n",
        "train_dog_dir = os.path.join(train_set_dir, 'dog')\n",
        "print(train_dog_dir)\n",
        "os.mkdir(train_dog_dir)\n",
        "\n",
        "train_cat_dir = os.path.join(train_set_dir, 'cat')\n",
        "print(train_cat_dir)\n",
        "os.mkdir(train_cat_dir)"
      ],
      "metadata": {
        "id": "8QkFvNT_UIKl"
      },
      "execution_count": null,
      "outputs": []
    },
    {
      "cell_type": "code",
      "source": [
        "#valid용 폴더 생성\n",
        "valid_set_dir = os.path.join(root_dir, 'valid_set')\n",
        "print(valid_set_dir)\n",
        "os.mkdir(valid_set_dir)\n",
        "\n",
        "valid_dog_dir = os.path.join(valid_set_dir, 'dog')\n",
        "print(valid_dog_dir)\n",
        "os.mkdir(valid_dog_dir)\n",
        "\n",
        "valid_cat_dir = os.path.join(valid_set_dir, 'cat')\n",
        "print(valid_cat_dir)\n",
        "os.mkdir(valid_cat_dir)"
      ],
      "metadata": {
        "id": "M3a3jM_wUmQd"
      },
      "execution_count": null,
      "outputs": []
    },
    {
      "cell_type": "code",
      "source": [
        "#test용 폴더 생성\n",
        "test_set_dir = os.path.join(root_dir, 'test_set')\n",
        "print(test_set_dir)\n",
        "os.mkdir(test_set_dir)\n",
        "\n",
        "\n",
        "test_dog_dir = os.path.join(test_set_dir, 'dog')\n",
        "print(test_dog_dir)\n",
        "os.mkdir(test_dog_dir)\n",
        "\n",
        "test_cat_dir = os.path.join(test_set_dir, 'cat')\n",
        "print(test_cat_dir)\n",
        "os.mkdir(test_cat_dir)"
      ],
      "metadata": {
        "id": "7MOSs0ivXAF3"
      },
      "execution_count": null,
      "outputs": []
    },
    {
      "cell_type": "code",
      "source": [
        "# image file name list 생성 0~2499.jpg 까지 만들어 놓고\n",
        "dog_files = [f'dog.{i}.jpg' for i in range(2500)]\n",
        "cat_files = [f'cat.{i}.jpg' for i in range(2500)]"
      ],
      "metadata": {
        "id": "ihu5NLmyXNLJ"
      },
      "execution_count": 15,
      "outputs": []
    },
    {
      "cell_type": "code",
      "source": [
        "# 각 폴더로 image 이동\n",
        "for file in dog_files[:1000]:\n",
        "    src = os.path.join('/content/cats_and_dogs_filtered/train/dogs', file)\n",
        "    dst = os.path.join(train_dog_dir, file)\n",
        "    shutil.move(src, dst)\n",
        "\n",
        "for file in cat_files[:1000]:\n",
        "    src = os.path.join('/content/cats_and_dogs_filtered/train/cats', file)\n",
        "    dst = os.path.join(train_cat_dir, file)\n",
        "    shutil.move(src, dst)"
      ],
      "metadata": {
        "id": "vtK8qxN5XaPH",
        "colab": {
          "base_uri": "https://localhost:8080/",
          "height": 241
        },
        "outputId": "db672fd0-0b0e-403a-e670-48e4130a1a71"
      },
      "execution_count": 16,
      "outputs": [
        {
          "output_type": "error",
          "ename": "NameError",
          "evalue": "ignored",
          "traceback": [
            "\u001b[0;31m---------------------------------------------------------------------------\u001b[0m",
            "\u001b[0;31mNameError\u001b[0m                                 Traceback (most recent call last)",
            "\u001b[0;32m<ipython-input-16-0e775e465a49>\u001b[0m in \u001b[0;36m<cell line: 2>\u001b[0;34m()\u001b[0m\n\u001b[1;32m      2\u001b[0m \u001b[0;32mfor\u001b[0m \u001b[0mfile\u001b[0m \u001b[0;32min\u001b[0m \u001b[0mdog_files\u001b[0m\u001b[0;34m[\u001b[0m\u001b[0;34m:\u001b[0m\u001b[0;36m1000\u001b[0m\u001b[0;34m]\u001b[0m\u001b[0;34m:\u001b[0m\u001b[0;34m\u001b[0m\u001b[0;34m\u001b[0m\u001b[0m\n\u001b[1;32m      3\u001b[0m     \u001b[0msrc\u001b[0m \u001b[0;34m=\u001b[0m \u001b[0mos\u001b[0m\u001b[0;34m.\u001b[0m\u001b[0mpath\u001b[0m\u001b[0;34m.\u001b[0m\u001b[0mjoin\u001b[0m\u001b[0;34m(\u001b[0m\u001b[0;34m'/content/cats_and_dogs_filtered/train/dogs'\u001b[0m\u001b[0;34m,\u001b[0m \u001b[0mfile\u001b[0m\u001b[0;34m)\u001b[0m\u001b[0;34m\u001b[0m\u001b[0;34m\u001b[0m\u001b[0m\n\u001b[0;32m----> 4\u001b[0;31m     \u001b[0mdst\u001b[0m \u001b[0;34m=\u001b[0m \u001b[0mos\u001b[0m\u001b[0;34m.\u001b[0m\u001b[0mpath\u001b[0m\u001b[0;34m.\u001b[0m\u001b[0mjoin\u001b[0m\u001b[0;34m(\u001b[0m\u001b[0mtrain_dog_dir\u001b[0m\u001b[0;34m,\u001b[0m \u001b[0mfile\u001b[0m\u001b[0;34m)\u001b[0m\u001b[0;34m\u001b[0m\u001b[0;34m\u001b[0m\u001b[0m\n\u001b[0m\u001b[1;32m      5\u001b[0m     \u001b[0mshutil\u001b[0m\u001b[0;34m.\u001b[0m\u001b[0mmove\u001b[0m\u001b[0;34m(\u001b[0m\u001b[0msrc\u001b[0m\u001b[0;34m,\u001b[0m \u001b[0mdst\u001b[0m\u001b[0;34m)\u001b[0m\u001b[0;34m\u001b[0m\u001b[0;34m\u001b[0m\u001b[0m\n\u001b[1;32m      6\u001b[0m \u001b[0;34m\u001b[0m\u001b[0m\n",
            "\u001b[0;31mNameError\u001b[0m: name 'train_dog_dir' is not defined"
          ]
        }
      ]
    },
    {
      "cell_type": "code",
      "source": [
        "print(len(os.listdir(train_dog_dir)))\n",
        "print(len(os.listdir(train_cat_dir)))"
      ],
      "metadata": {
        "id": "-tBzIvjWX2N0",
        "colab": {
          "base_uri": "https://localhost:8080/",
          "height": 188
        },
        "outputId": "85188c67-7948-4be5-e726-9a575ae0b382"
      },
      "execution_count": 17,
      "outputs": [
        {
          "output_type": "error",
          "ename": "NameError",
          "evalue": "ignored",
          "traceback": [
            "\u001b[0;31m---------------------------------------------------------------------------\u001b[0m",
            "\u001b[0;31mNameError\u001b[0m                                 Traceback (most recent call last)",
            "\u001b[0;32m<ipython-input-17-d5740bb07f57>\u001b[0m in \u001b[0;36m<cell line: 1>\u001b[0;34m()\u001b[0m\n\u001b[0;32m----> 1\u001b[0;31m \u001b[0mprint\u001b[0m\u001b[0;34m(\u001b[0m\u001b[0mlen\u001b[0m\u001b[0;34m(\u001b[0m\u001b[0mos\u001b[0m\u001b[0;34m.\u001b[0m\u001b[0mlistdir\u001b[0m\u001b[0;34m(\u001b[0m\u001b[0mtrain_dog_dir\u001b[0m\u001b[0;34m)\u001b[0m\u001b[0;34m)\u001b[0m\u001b[0;34m)\u001b[0m\u001b[0;34m\u001b[0m\u001b[0;34m\u001b[0m\u001b[0m\n\u001b[0m\u001b[1;32m      2\u001b[0m \u001b[0mprint\u001b[0m\u001b[0;34m(\u001b[0m\u001b[0mlen\u001b[0m\u001b[0;34m(\u001b[0m\u001b[0mos\u001b[0m\u001b[0;34m.\u001b[0m\u001b[0mlistdir\u001b[0m\u001b[0;34m(\u001b[0m\u001b[0mtrain_cat_dir\u001b[0m\u001b[0;34m)\u001b[0m\u001b[0;34m)\u001b[0m\u001b[0;34m)\u001b[0m\u001b[0;34m\u001b[0m\u001b[0;34m\u001b[0m\u001b[0m\n",
            "\u001b[0;31mNameError\u001b[0m: name 'train_dog_dir' is not defined"
          ]
        }
      ]
    },
    {
      "cell_type": "code",
      "source": [
        "for file in dog_files[2000:2300]:\n",
        "    src = os.path.join('/content/cats_and_dogs_filtered/validation/dogs', file)\n",
        "    dst = os.path.join(valid_dog_dir, file)\n",
        "    shutil.move(src, dst)\n",
        "\n",
        "for file in cat_files[2000:2300]:\n",
        "    src = os.path.join('/content/cats_and_dogs_filtered/validation/cats', file)\n",
        "    dst = os.path.join(valid_cat_dir, file)\n",
        "    shutil.move(src, dst)"
      ],
      "metadata": {
        "id": "ELiER5uObSqy"
      },
      "execution_count": null,
      "outputs": []
    },
    {
      "cell_type": "code",
      "source": [
        "print(len(os.listdir(valid_dog_dir)))\n",
        "print(len(os.listdir(valid_cat_dir)))"
      ],
      "metadata": {
        "id": "7dsYfoQZbo4Z"
      },
      "execution_count": null,
      "outputs": []
    },
    {
      "cell_type": "code",
      "source": [
        "for file in dog_files[2300:2500]:\n",
        "    src = os.path.join('/content/cats_and_dogs_filtered/validation/dogs', file)\n",
        "    dst = os.path.join(test_dog_dir, file)\n",
        "    shutil.move(src, dst)\n",
        "\n",
        "for file in cat_files[2300:2500]:\n",
        "    src = os.path.join('/content/cats_and_dogs_filtered/validation/cats', file)\n",
        "    dst = os.path.join(test_cat_dir, file)\n",
        "    shutil.move(src, dst)"
      ],
      "metadata": {
        "id": "9YFWN_Knbsgh"
      },
      "execution_count": null,
      "outputs": []
    },
    {
      "cell_type": "code",
      "source": [
        "print(len(os.listdir(test_dog_dir)))\n",
        "print(len(os.listdir(test_cat_dir)))"
      ],
      "metadata": {
        "id": "QqqH4hK6b1Sz"
      },
      "execution_count": null,
      "outputs": []
    },
    {
      "cell_type": "code",
      "source": [
        "print(f'the number of train set : {len(os.listdir(train_dog_dir)) + len(os.listdir(train_cat_dir))}')\n",
        "print(f'the number of validn set : {len(os.listdir(valid_dog_dir)) + len(os.listdir(valid_cat_dir))}')\n",
        "print(f'the number of test set : {len(os.listdir(test_dog_dir)) + len(os.listdir(test_cat_dir))}')"
      ],
      "metadata": {
        "id": "dZVMoQBab4Tw"
      },
      "execution_count": null,
      "outputs": []
    },
    {
      "cell_type": "markdown",
      "source": [
        "\n",
        "\n",
        "*   rotation_range - 사진 회전각도 범위; 0~180사이값\n",
        "*   width_shift_range, height_shift_range - 수평과 수직으로 평행 이동시킬 범위; 전체 너비와 높이에 대한 비율값\n",
        "*   shear_range - shearing transformation(전단 변환)을 적용할 각도 범위; 사진을 3D로 기울임\n",
        "*   zoom_range - 사진을 확대할 범위\n",
        "*   horizontal_flip - 랜덤하게 이미지를 수평으로 뒤집음\n",
        "*   fill_mode - 회전이나 이동을 통해 빈 곳이 생기면 픽셀을 채우는 방법(nearest는 인접한 픽셀을 사용함)\n"
      ],
      "metadata": {
        "id": "-P8IyTKChbNN"
      }
    },
    {
      "cell_type": "code",
      "source": [
        "train_datagen = tf.keras.preprocessing.image.ImageDataGenerator(rescale=1./255,\n",
        "                                                      rotation_range=40,\n",
        "                                                      width_shift_range=0.2,\n",
        "                                                       height_shift_range=0.2,\n",
        "                                                       shear_range=0.2,\n",
        "                                                       zoom_range=0.2,\n",
        "                                                       horizontal_flip=True,\n",
        "                                                       fill_mode='nearest')\n",
        "\n",
        "valid_datagen = tf.keras.preprocessing.image.ImageDataGenerator(rescale=1./255)\n",
        "test_datagen = tf.keras.preprocessing.image.ImageDataGenerator(rescale=1./255)\n",
        "\n",
        "\n",
        "train_generator = train_datagen.flow_from_directory(train_set_dir,\n",
        "                                                   target_size=(150,150),\n",
        "                                                   batch_size=32)\n",
        "valid_generator = valid_datagen.flow_from_directory(valid_set_dir,\n",
        "                                                   target_size=(150,150),\n",
        "                                                   batch_size=32)\n",
        "test_generator = test_datagen.flow_from_directory(test_set_dir,\n",
        "                                                 target_size=(150,150),\n",
        "                                                 batch_size=32)\n",
        "\n"
      ],
      "metadata": {
        "id": "Albj7OiEb-Bm"
      },
      "execution_count": null,
      "outputs": []
    },
    {
      "cell_type": "code",
      "source": [
        "base_model = tf.keras.applications.VGG16(weights='imagenet',\n",
        "                                         include_top=False,\n",
        "                                         input_shape=(150,150,3))\n",
        "\n",
        "#base_model.trainable = False\n",
        "\n",
        "model = Sequential([\n",
        "    base_model,\n",
        "    Flatten(),\n",
        "    Dense(256, activation='relu'),\n",
        "    Dense(128, activation='relu'),\n",
        "    Dense(64, activation='relu'),\n",
        "    Dropout(0.25),\n",
        "    Dense(2, activation='softmax') # 개, 고양이 분류만 진행 finetuning Dense 2\n",
        "])\n",
        "\n",
        "model.summary()"
      ],
      "metadata": {
        "id": "0Y3s8T2LiZ74"
      },
      "execution_count": null,
      "outputs": []
    },
    {
      "cell_type": "code",
      "source": [
        "from tensorflow.keras.callbacks import EarlyStopping\n",
        "\n",
        "model.compile(optimizer=tf.keras.optimizers.Adam(1e-5),\n",
        "             loss='categorical_crossentropy',\n",
        "              metrics=['acc'])\n",
        "\n",
        "earlystopping = EarlyStopping(monitor='val_loss', patience=5)                     \n",
        "\n",
        "\n",
        "hist = model.fit_generator(train_generator,\n",
        "                   epochs=5,\n",
        "                   validation_data=valid_generator,\n",
        "                   callbacks=[earlystopping])"
      ],
      "metadata": {
        "colab": {
          "base_uri": "https://localhost:8080/"
        },
        "id": "Zr2VMbgqi0HP",
        "outputId": "295cb0e4-0b77-4936-9b07-9d2a1eebbde4"
      },
      "execution_count": null,
      "outputs": [
        {
          "output_type": "stream",
          "name": "stderr",
          "text": [
            "<ipython-input-20-c5cf9ce07119>:10: UserWarning: `Model.fit_generator` is deprecated and will be removed in a future version. Please use `Model.fit`, which supports generators.\n",
            "  hist = model.fit_generator(train_generator,\n"
          ]
        },
        {
          "output_type": "stream",
          "name": "stdout",
          "text": [
            "Epoch 1/5\n",
            "63/63 [==============================] - 37s 370ms/step - loss: 0.6552 - acc: 0.6105 - val_loss: 0.5660 - val_acc: 0.7217\n",
            "Epoch 2/5\n",
            "63/63 [==============================] - 20s 310ms/step - loss: 0.5959 - acc: 0.6810 - val_loss: 0.4892 - val_acc: 0.8033\n",
            "Epoch 3/5\n",
            "63/63 [==============================] - 21s 325ms/step - loss: 0.5568 - acc: 0.7220 - val_loss: 0.4464 - val_acc: 0.8183\n",
            "Epoch 4/5\n",
            "63/63 [==============================] - 19s 299ms/step - loss: 0.5107 - acc: 0.7630 - val_loss: 0.4114 - val_acc: 0.8233\n",
            "Epoch 5/5\n",
            "63/63 [==============================] - 20s 322ms/step - loss: 0.4958 - acc: 0.7675 - val_loss: 0.3779 - val_acc: 0.8450\n"
          ]
        }
      ]
    },
    {
      "cell_type": "code",
      "source": [
        "import matplotlib.pyplot as plt\n",
        "\n",
        "plt.plot(hist.history['acc'], label='train')\n",
        "plt.plot(hist.history['val_acc'], label='validation')\n",
        "plt.title('Accuracy Trend')\n",
        "plt.ylabel('accuracy')\n",
        "plt.xlabel('epoch')\n",
        "plt.legend(loc='best')\n",
        "plt.grid()\n",
        "plt.show()"
      ],
      "metadata": {
        "colab": {
          "base_uri": "https://localhost:8080/",
          "height": 472
        },
        "id": "w3hmYeZZkvW5",
        "outputId": "5bbc8d39-a04f-4255-aa8a-e5c2637af997"
      },
      "execution_count": null,
      "outputs": [
        {
          "output_type": "display_data",
          "data": {
            "text/plain": [
              "<Figure size 640x480 with 1 Axes>"
            ],
            "image/png": "[encoded data removed]"
          },
          "metadata": {}
        }
      ]
    },
    {
      "cell_type": "code",
      "source": [
        "plt.plot(hist.history['loss'], label='train')\n",
        "plt.plot(hist.history['val_loss'], label='validation')\n",
        "plt.title('Loss Trend')\n",
        "plt.ylabel('loss')\n",
        "plt.xlabel('epoch')\n",
        "plt.legend(loc='best')\n",
        "plt.grid()\n",
        "plt.show()"
      ],
      "metadata": {
        "colab": {
          "base_uri": "https://localhost:8080/",
          "height": 472
        },
        "id": "18MUz8nCkxQc",
        "outputId": "9a876b3e-b70f-45b5-ae9b-b212b956ba8d"
      },
      "execution_count": null,
      "outputs": [
        {
          "output_type": "display_data",
          "data": {
            "text/plain": [
              "<Figure size 640x480 with 1 Axes>"
            ],
            "image/png": "[encoded data removed]"
          },
          "metadata": {}
        }
      ]
    },
    {
      "cell_type": "code",
      "source": [
        "model.save('model.h5')\n",
        "\n",
        "test_loss, test_acc = model.evaluate_generator(test_generator,\n",
        "                                               workers=4)\n",
        "print(f'test loss : {test_loss:.4f} / test acc : {test_acc*100:.2f} %')"
      ],
      "metadata": {
        "id": "V-HEPNVuqjj9"
      },
      "execution_count": null,
      "outputs": []
    },
    {
      "cell_type": "markdown",
      "source": [
        "### 특징 추출기 일부 학습"
      ],
      "metadata": {
        "id": "YurhyMRsQf8p"
      }
    },
    {
      "cell_type": "code",
      "source": [
        "base_model = tf.keras.applications.VGG16(weights='imagenet',\n",
        "                                         include_top=False,\n",
        "                                         input_shape=(150,150,3))\n",
        "\n",
        "trainable = False\n",
        "for layer in base_model.layers:\n",
        "    if layer.name == 'block5_conv3':\n",
        "        trainable = True\n",
        "    layer.trainable =  trainable\n",
        "\n",
        "base_model.summary()"
      ],
      "metadata": {
        "colab": {
          "base_uri": "https://localhost:8080/"
        },
        "id": "rrRXR2Bt1lnj",
        "outputId": "fda0a534-9920-42a9-e34d-880c2cd1b1e8"
      },
      "execution_count": null,
      "outputs": [
        {
          "output_type": "stream",
          "name": "stdout",
          "text": [
            "Model: \"vgg16\"\n",
            "_________________________________________________________________\n",
            " Layer (type)                Output Shape              Param #   \n",
            "=================================================================\n",
            " input_2 (InputLayer)        [(None, 150, 150, 3)]     0         \n",
            "                                                                 \n",
            " block1_conv1 (Conv2D)       (None, 150, 150, 64)      1792      \n",
            "                                                                 \n",
            " block1_conv2 (Conv2D)       (None, 150, 150, 64)      36928     \n",
            "                                                                 \n",
            " block1_pool (MaxPooling2D)  (None, 75, 75, 64)        0         \n",
            "                                                                 \n",
            " block2_conv1 (Conv2D)       (None, 75, 75, 128)       73856     \n",
            "                                                                 \n",
            " block2_conv2 (Conv2D)       (None, 75, 75, 128)       147584    \n",
            "                                                                 \n",
            " block2_pool (MaxPooling2D)  (None, 37, 37, 128)       0         \n",
            "                                                                 \n",
            " block3_conv1 (Conv2D)       (None, 37, 37, 256)       295168    \n",
            "                                                                 \n",
            " block3_conv2 (Conv2D)       (None, 37, 37, 256)       590080    \n",
            "                                                                 \n",
            " block3_conv3 (Conv2D)       (None, 37, 37, 256)       590080    \n",
            "                                                                 \n",
            " block3_pool (MaxPooling2D)  (None, 18, 18, 256)       0         \n",
            "                                                                 \n",
            " block4_conv1 (Conv2D)       (None, 18, 18, 512)       1180160   \n",
            "                                                                 \n",
            " block4_conv2 (Conv2D)       (None, 18, 18, 512)       2359808   \n",
            "                                                                 \n",
            " block4_conv3 (Conv2D)       (None, 18, 18, 512)       2359808   \n",
            "                                                                 \n",
            " block4_pool (MaxPooling2D)  (None, 9, 9, 512)         0         \n",
            "                                                                 \n",
            " block5_conv1 (Conv2D)       (None, 9, 9, 512)         2359808   \n",
            "                                                                 \n",
            " block5_conv2 (Conv2D)       (None, 9, 9, 512)         2359808   \n",
            "                                                                 \n",
            " block5_conv3 (Conv2D)       (None, 9, 9, 512)         2359808   \n",
            "                                                                 \n",
            " block5_pool (MaxPooling2D)  (None, 4, 4, 512)         0         \n",
            "                                                                 \n",
            "=================================================================\n",
            "Total params: 14,714,688\n",
            "Trainable params: 2,359,808\n",
            "Non-trainable params: 12,354,880\n",
            "_________________________________________________________________\n"
          ]
        }
      ]
    },
    {
      "cell_type": "code",
      "source": [
        "model = Sequential([\n",
        "    base_model,\n",
        "    Flatten(),\n",
        "    Dense(256, activation='relu'),\n",
        "    Dense(128, activation='relu'),\n",
        "    Dense(64, activation='relu'),\n",
        "    Dropout(0.25),\n",
        "    Dense(2, activation='softmax')\n",
        "])\n",
        "\n",
        "model.summary()"
      ],
      "metadata": {
        "id": "Rs6Q5BS-3p9z",
        "colab": {
          "base_uri": "https://localhost:8080/"
        },
        "outputId": "71f51705-1a28-4d4c-dc31-9817f50ec9d1"
      },
      "execution_count": null,
      "outputs": [
        {
          "output_type": "stream",
          "name": "stdout",
          "text": [
            "Model: \"sequential_2\"\n",
            "_________________________________________________________________\n",
            " Layer (type)                Output Shape              Param #   \n",
            "=================================================================\n",
            " vgg16 (Functional)          (None, 4, 4, 512)         14714688  \n",
            "                                                                 \n",
            " flatten_2 (Flatten)         (None, 8192)              0         \n",
            "                                                                 \n",
            " dense_8 (Dense)             (None, 256)               2097408   \n",
            "                                                                 \n",
            " dense_9 (Dense)             (None, 128)               32896     \n",
            "                                                                 \n",
            " dense_10 (Dense)            (None, 64)                8256      \n",
            "                                                                 \n",
            " dropout_2 (Dropout)         (None, 64)                0         \n",
            "                                                                 \n",
            " dense_11 (Dense)            (None, 2)                 130       \n",
            "                                                                 \n",
            "=================================================================\n",
            "Total params: 16,853,378\n",
            "Trainable params: 4,498,498\n",
            "Non-trainable params: 12,354,880\n",
            "_________________________________________________________________\n"
          ]
        }
      ]
    },
    {
      "cell_type": "code",
      "source": [
        "model.compile(optimizer=tf.keras.optimizers.Adam(1e-5),\n",
        "             loss='categorical_crossentropy',\n",
        "              metrics=['acc'])\n",
        "\n",
        "earlystopping = EarlyStopping(monitor='val_loss', patience=5)                     \n",
        "\n",
        "\n",
        "hist = model.fit_generator(train_generator,\n",
        "                   epochs=5,\n",
        "                   validation_data=valid_generator,\n",
        "                   callbacks=[earlystopping])"
      ],
      "metadata": {
        "id": "MqjE0fAG31-n",
        "colab": {
          "base_uri": "https://localhost:8080/"
        },
        "outputId": "7c6294c0-f4f5-4990-8cde-4eb010b9d288"
      },
      "execution_count": null,
      "outputs": [
        {
          "output_type": "stream",
          "name": "stderr",
          "text": [
            "<ipython-input-37-2f64f97a4f35>:8: UserWarning: `Model.fit_generator` is deprecated and will be removed in a future version. Please use `Model.fit`, which supports generators.\n",
            "  hist = model.fit_generator(train_generator,\n"
          ]
        },
        {
          "output_type": "stream",
          "name": "stdout",
          "text": [
            "Epoch 1/5\n",
            "63/63 [==============================] - 24s 309ms/step - loss: 0.6595 - acc: 0.6070 - val_loss: 0.5801 - val_acc: 0.7350\n",
            "Epoch 2/5\n",
            "63/63 [==============================] - 22s 350ms/step - loss: 0.5839 - acc: 0.6985 - val_loss: 0.4707 - val_acc: 0.8083\n",
            "Epoch 3/5\n",
            "63/63 [==============================] - 19s 302ms/step - loss: 0.5138 - acc: 0.7585 - val_loss: 0.4020 - val_acc: 0.8333\n",
            "Epoch 4/5\n",
            "63/63 [==============================] - 23s 359ms/step - loss: 0.4529 - acc: 0.7875 - val_loss: 0.3562 - val_acc: 0.8500\n",
            "Epoch 5/5\n",
            "39/63 [=================>............] - ETA: 6s - loss: 0.4223 - acc: 0.8157"
          ]
        }
      ]
    },
    {
      "cell_type": "code",
      "source": [],
      "metadata": {
        "id": "qFS5_12LPEWW"
      },
      "execution_count": null,
      "outputs": []
    }
  ]
}