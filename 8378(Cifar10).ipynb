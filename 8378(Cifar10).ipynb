{
  "nbformat": 4,
  "nbformat_minor": 0,
  "metadata": {
    "colab": {
      "provenance": [],
      "include_colab_link": true
    },
    "kernelspec": {
      "name": "python3",
      "display_name": "Python 3"
    },
    "language_info": {
      "name": "python"
    },
    "accelerator": "GPU",
    "gpuClass": "standard"
  },
  "cells": [
    {
      "cell_type": "markdown",
      "metadata": {
        "id": "view-in-github",
        "colab_type": "text"
      },
      "source": [
        "<a href=\"https://colab.research.google.com/github/GeulHae/GeulHae/blob/dev_dataAnalysis/8378(Cifar10).ipynb\" target=\"_parent\"><img src=\"https://colab.research.google.com/assets/colab-badge.svg\" alt=\"Open In Colab\"/></a>"
      ]
    },
    {
      "cell_type": "code",
      "execution_count": 1,
      "metadata": {
        "id": "YBkvNt4zUSfq"
      },
      "outputs": [],
      "source": [
        "import tensorflow as tf\n",
        "import numpy as np\n",
        "import matplotlib.pyplot as plt\n",
        "from tensorflow.keras.datasets import mnist\n",
        "from tensorflow.keras.layers import Dense, Flatten, Dropout, Conv2D, MaxPooling2D\n",
        "from tensorflow.keras import Model"
      ]
    },
    {
      "cell_type": "markdown",
      "source": [
        "# 새 섹션"
      ],
      "metadata": {
        "id": "umlz118tIEV2"
      }
    },
    {
      "cell_type": "markdown",
      "source": [
        "classes = ['airplane', 'automobile', 'bird', 'cat', 'deer', 'dog', 'frog', 'horse', 'ship', 'truck']"
      ],
      "metadata": {
        "id": "wKQCslVD6vv6"
      }
    },
    {
      "cell_type": "code",
      "source": [
        "#데이터 세트를 불러옵니다.\n",
        "cifar10 = tf.keras.datasets.cifar10\n",
        "\n",
        "# 데이터 세트를 Train set과 Test set으로 나누어 줍니다.\n",
        "(x_train, y_train), (x_test, y_test) = cifar10.load_data()\n",
        "\n",
        "# print(x_train.shape, x_test.shape)\n",
        "# RGB 채널에 3이 들어가 있는 것을 확인 할 수 있다."
      ],
      "metadata": {
        "colab": {
          "base_uri": "https://localhost:8080/"
        },
        "id": "FCcLaorce3fb",
        "outputId": "b82c9da1-b5f5-490e-b38c-230e9a4c9e1d"
      },
      "execution_count": 2,
      "outputs": [
        {
          "output_type": "stream",
          "name": "stdout",
          "text": [
            "Downloading data from https://www.cs.toronto.edu/~kriz/cifar-10-python.tar.gz\n",
            "170498071/170498071 [==============================] - 7s 0us/step\n"
          ]
        }
      ]
    },
    {
      "cell_type": "code",
      "source": [
        "x_train = x_train.astype(np.float32) / 255.0\n",
        "x_test = x_test.astype(np.float32) / 255.0\n",
        "\n",
        "# print(y_train[0])\n",
        "# print(y_train[0].shape)\n",
        "\n",
        "#flatten 과정을 거쳐 줘야 한다.\n",
        "y_train = y_train.flatten()\n",
        "y_test = y_test.flatten()\n",
        "\n",
        "y_train = tf.one_hot(y_train.astype(np.int32), depth=10)\n",
        "y_test = tf.one_hot(y_test.astype(np.int32), depth=10)"
      ],
      "metadata": {
        "id": "MJlPNBG4lhPP"
      },
      "execution_count": 3,
      "outputs": []
    },
    {
      "cell_type": "code",
      "source": [
        "plt.imshow(x_train[100])\n",
        "print(y_train[100])"
      ],
      "metadata": {
        "colab": {
          "base_uri": "https://localhost:8080/",
          "height": 448
        },
        "id": "wAUVZuwd6rvY",
        "outputId": "2318272a-92a7-429b-e790-5fbe210519a2"
      },
      "execution_count": 4,
      "outputs": [
        {
          "output_type": "stream",
          "name": "stdout",
          "text": [
            "tf.Tensor([0. 0. 0. 0. 0. 0. 0. 0. 1. 0.], shape=(10,), dtype=float32)\n"
          ]
        },
        {
          "output_type": "display_data",
          "data": {
            "text/plain": [
              "<Figure size 640x480 with 1 Axes>"
            ],
            "image/png": "[encoded data removed]"
          },
          "metadata": {}
        }
      ]
    },
    {
      "cell_type": "code",
      "source": [
        "def makeCNN():\n",
        "  model = tf.keras.models.Sequential([\n",
        "    tf.keras.layers.Conv2D(64, 3, padding='same', input_shape=(32, 32, 3), activation='relu'),\n",
        "    tf.keras.layers.Conv2D(64, 3, activation='relu'),\n",
        "    tf.keras.layers.MaxPooling2D(),\n",
        "    tf.keras.layers.Dropout(0.25),\n",
        "\n",
        "    tf.keras.layers.Conv2D(128, 3, padding='same', activation='relu'),\n",
        "    tf.keras.layers.Conv2D(128, 3, activation='relu'),\n",
        "    tf.keras.layers.MaxPooling2D(),\n",
        "    tf.keras.layers.Dropout(0.25),\n",
        "\n",
        "    tf.keras.layers.Conv2D(256, 3, padding='same', activation='relu'),\n",
        "    tf.keras.layers.Conv2D(256, 3, activation='relu'),\n",
        "    tf.keras.layers.MaxPooling2D(),\n",
        "    tf.keras.layers.Dropout(0.25),\n",
        "\n",
        "    tf.keras.layers.Flatten(),\n",
        "    tf.keras.layers.Dense(512, activation='relu'),\n",
        "    tf.keras.layers.Dropout(0.5),\n",
        "    tf.keras.layers.Dense(10, activation='softmax')\n",
        "])\n",
        "\n",
        "\n",
        "  model.compile(loss='categorical_crossentropy', optimizer=tf.keras.optimizers.Adam(learning_rate=lr), metrics=['accuracy'])\n",
        "  return model"
      ],
      "metadata": {
        "id": "Zt6qs6_-7AL7"
      },
      "execution_count": 9,
      "outputs": []
    },
    {
      "cell_type": "code",
      "source": [
        "batch_size = 64\n",
        "# num_classes = 10\n",
        "epochs = 5\n",
        "lr = 0.0001"
      ],
      "metadata": {
        "id": "UqwpgX6gibXM"
      },
      "execution_count": 10,
      "outputs": []
    },
    {
      "cell_type": "code",
      "source": [
        "def main():\n",
        "\n",
        "  model = makeCNN()\n",
        "\n",
        "  hist = model.fit(x_train,\n",
        "                   y_train,\n",
        "                   batch_size=batch_size,  # default=32\n",
        "                   epochs=20)\n",
        "  \n",
        "  fig, ax = plt.subplots(figsize=(14, 6))\n",
        "  \n",
        "  ax.plot(hist.history['accuracy'])\n",
        "  plt.legend(['accuracy'])\n",
        "\n",
        "  ax.set_xlabel('epoch')\n",
        "  ax.set_ylabel('accuracy')\n",
        "  \n",
        "  loss, accuracy = model.evaluate(x_test, y_test)\n",
        "  print('Accuracy = {:.4f}'.format(accuracy))\n",
        "  result = {'hist':hist, 'accuracy':accuracy}\n",
        "  return result"
      ],
      "metadata": {
        "id": "QZTNXI_DXdx9"
      },
      "execution_count": 11,
      "outputs": []
    },
    {
      "cell_type": "code",
      "source": [
        "if __name__ == '__main__':\n",
        "  main()"
      ],
      "metadata": {
        "colab": {
          "base_uri": "https://localhost:8080/",
          "height": 1000
        },
        "id": "u6RcZHHUjsU6",
        "outputId": "f5583cce-80d0-4f74-eb4e-a2c4d621210e"
      },
      "execution_count": 12,
      "outputs": [
        {
          "output_type": "stream",
          "name": "stdout",
          "text": [
            "Epoch 1/20\n",
            "782/782 [==============================] - 16s 16ms/step - loss: 1.8573 - accuracy: 0.3037\n",
            "Epoch 2/20\n",
            "782/782 [==============================] - 12s 15ms/step - loss: 1.4687 - accuracy: 0.4564\n",
            "Epoch 3/20\n",
            "782/782 [==============================] - 12s 15ms/step - loss: 1.2923 - accuracy: 0.5306\n",
            "Epoch 4/20\n",
            "782/782 [==============================] - 12s 15ms/step - loss: 1.1626 - accuracy: 0.5854\n",
            "Epoch 5/20\n",
            "782/782 [==============================] - 13s 16ms/step - loss: 1.0663 - accuracy: 0.6230\n",
            "Epoch 6/20\n",
            "782/782 [==============================] - 12s 15ms/step - loss: 0.9978 - accuracy: 0.6465\n",
            "Epoch 7/20\n",
            "782/782 [==============================] - 12s 15ms/step - loss: 0.9324 - accuracy: 0.6700\n",
            "Epoch 8/20\n",
            "782/782 [==============================] - 12s 15ms/step - loss: 0.8794 - accuracy: 0.6904\n",
            "Epoch 9/20\n",
            "782/782 [==============================] - 12s 15ms/step - loss: 0.8298 - accuracy: 0.7089\n",
            "Epoch 10/20\n",
            "782/782 [==============================] - 12s 15ms/step - loss: 0.7798 - accuracy: 0.7244\n",
            "Epoch 11/20\n",
            "782/782 [==============================] - 12s 15ms/step - loss: 0.7347 - accuracy: 0.7411\n",
            "Epoch 12/20\n",
            "782/782 [==============================] - 12s 15ms/step - loss: 0.6951 - accuracy: 0.7561\n",
            "Epoch 13/20\n",
            "782/782 [==============================] - 12s 15ms/step - loss: 0.6583 - accuracy: 0.7717\n",
            "Epoch 14/20\n",
            "782/782 [==============================] - 12s 15ms/step - loss: 0.6238 - accuracy: 0.7819\n",
            "Epoch 15/20\n",
            "782/782 [==============================] - 12s 15ms/step - loss: 0.5911 - accuracy: 0.7938\n",
            "Epoch 16/20\n",
            "782/782 [==============================] - 12s 15ms/step - loss: 0.5654 - accuracy: 0.8044\n",
            "Epoch 17/20\n",
            "782/782 [==============================] - 12s 15ms/step - loss: 0.5365 - accuracy: 0.8111\n",
            "Epoch 18/20\n",
            "782/782 [==============================] - 12s 15ms/step - loss: 0.5081 - accuracy: 0.8236\n",
            "Epoch 19/20\n",
            "782/782 [==============================] - 12s 15ms/step - loss: 0.4807 - accuracy: 0.8311\n",
            "Epoch 20/20\n",
            "782/782 [==============================] - 12s 15ms/step - loss: 0.4604 - accuracy: 0.8378\n",
            "313/313 [==============================] - 1s 4ms/step - loss: 0.5704 - accuracy: 0.8084\n",
            "Accuracy = 0.8084\n"
          ]
        },
        {
          "output_type": "display_data",
          "data": {
            "text/plain": [
              "<Figure size 1400x600 with 1 Axes>"
            ],
            "image/png": "[encoded data removed]"
          },
          "metadata": {}
        }
      ]
    },
    {
      "cell_type": "code",
      "source": [],
      "metadata": {
        "id": "0wZa2aJ0lk6_"
      },
      "execution_count": null,
      "outputs": []
    }
  ]
}