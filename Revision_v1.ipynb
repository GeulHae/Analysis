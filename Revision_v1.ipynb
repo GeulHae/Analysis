{
  "nbformat": 4,
  "nbformat_minor": 0,
  "metadata": {
    "colab": {
      "provenance": [],
      "gpuType": "T4",
      "authorship_tag": "ABX9TyMe43kpEfVDaGYXawuo7UUN",
      "include_colab_link": true
    },
    "kernelspec": {
      "name": "python3",
      "display_name": "Python 3"
    },
    "language_info": {
      "name": "python"
    },
    "accelerator": "GPU"
  },
  "cells": [
    {
      "cell_type": "markdown",
      "metadata": {
        "id": "view-in-github",
        "colab_type": "text"
      },
      "source": [
        "<a href=\"https://colab.research.google.com/github/GeulHae/Analysis/blob/dev_dataAnalysis/Revision_v1.ipynb\" target=\"_parent\"><img src=\"https://colab.research.google.com/assets/colab-badge.svg\" alt=\"Open In Colab\"/></a>"
      ]
    },
    {
      "cell_type": "markdown",
      "source": [
        "# 2023Y 2Q 가동률 및 정량성과 상반기 실적 & 하반기 추정치 사업 Revision\n",
        "\n",
        "<br>\n",
        "\n",
        "\n",
        "<br>\n",
        "\n",
        "\n",
        "\n"
      ],
      "metadata": {
        "id": "-MzfPYE8uIbS"
      }
    },
    {
      "cell_type": "code",
      "source": [
        "import matplotlib.font_manager\n",
        "font_list = matplotlib.font_manager.findSystemFonts(fontpaths=None, fontext='ttf')\n",
        "[matplotlib.font_manager.FontProperties(fname=font).get_name() for font in font_list if 'Nanum' in font]"
      ],
      "metadata": {
        "colab": {
          "base_uri": "https://localhost:8080/"
        },
        "id": "cmpcBqV67-Rj",
        "outputId": "4ed328bf-8135-4a3f-cc83-44a39fe79b4d"
      },
      "execution_count": null,
      "outputs": [
        {
          "output_type": "execute_result",
          "data": {
            "text/plain": [
              "[]"
            ]
          },
          "metadata": {},
          "execution_count": 2
        }
      ]
    },
    {
      "cell_type": "code",
      "source": [
        "# wget <https://cdn.naver.com/naver/NanumFont/fontfiles/NanumFont_TTF_ALL.zip>\n",
        "# unzip NanumFont_TTF_ALL.zip -d NanumFont\n",
        "# rm -f NanumFont_TTF_ALL.zip\n",
        "# mv NanumFont /usr/share/fonts/\n",
        "# fc-cache -f -v\n",
        "\n",
        "# # matplotlib font 폴더에 \"NanumGothic\" 글꼴 복사\n",
        "# cd /usr/share/fonts/NanumFont\n",
        "# cp NanumGothic.ttf /home/app/anaconda3/lib/python3.7/site-packages/matplotlib/mpl-data/fonts/ttf"
      ],
      "metadata": {
        "colab": {
          "base_uri": "https://localhost:8080/",
          "height": 132
        },
        "id": "a8eU5wMA8Jn4",
        "outputId": "b335152a-3a40-4292-a5bb-c00abf245d5a"
      },
      "execution_count": null,
      "outputs": [
        {
          "output_type": "error",
          "ename": "SyntaxError",
          "evalue": "ignored",
          "traceback": [
            "\u001b[0;36m  File \u001b[0;32m\"<ipython-input-4-fed61f0fcfbe>\"\u001b[0;36m, line \u001b[0;32m1\u001b[0m\n\u001b[0;31m    wget <https://cdn.naver.com/naver/NanumFont/fontfiles/NanumFont_TTF_ALL.zip>\u001b[0m\n\u001b[0m               ^\u001b[0m\n\u001b[0;31mSyntaxError\u001b[0m\u001b[0;31m:\u001b[0m invalid syntax\n"
          ]
        }
      ]
    },
    {
      "cell_type": "code",
      "source": [
        "# import matplotlib\n",
        "# matplotlib.matplotlib_fname()"
      ],
      "metadata": {
        "colab": {
          "base_uri": "https://localhost:8080/",
          "height": 36
        },
        "id": "8mXPqvCIuLTQ",
        "outputId": "f4e4eca4-2cee-40ec-9af0-9df3b1af5a0d"
      },
      "execution_count": null,
      "outputs": [
        {
          "output_type": "execute_result",
          "data": {
            "text/plain": [
              "'/usr/local/lib/python3.10/dist-packages/matplotlib/mpl-data/matplotlibrc'"
            ],
            "application/vnd.google.colaboratory.intrinsic+json": {
              "type": "string"
            }
          },
          "metadata": {},
          "execution_count": 42
        }
      ]
    },
    {
      "cell_type": "code",
      "source": [
        "# !apt-get update -qq\n",
        "# !apt-get install fonts-nanum* -qq\n",
        "\n",
        "# import matplotlib.font_manager as fm\n",
        "# import warnings\n",
        "# warnings.filterwarnings(action='ignore')\n",
        "\n",
        "# path = '/usr/share/fonts/truetype/nanum/NanumGothic.ttf' # 나눔 고딕\n",
        "# font_name = fm.FontProperties(fname=path, size=10).get_name() # 기본 폰트 사이즈 : 10\n",
        "# plt.rc('font', family=font_name)\n",
        "# fm._rebuild()"
      ],
      "metadata": {
        "colab": {
          "base_uri": "https://localhost:8080/",
          "height": 201
        },
        "id": "diDmvLwq1oLC",
        "outputId": "facff7b8-8291-4386-97e5-5c63e14b3260"
      },
      "execution_count": null,
      "outputs": [
        {
          "output_type": "error",
          "ename": "AttributeError",
          "evalue": "ignored",
          "traceback": [
            "\u001b[0;31m---------------------------------------------------------------------------\u001b[0m",
            "\u001b[0;31mAttributeError\u001b[0m                            Traceback (most recent call last)",
            "\u001b[0;32m<ipython-input-2-a65add1ba202>\u001b[0m in \u001b[0;36m<cell line: 11>\u001b[0;34m()\u001b[0m\n\u001b[1;32m      9\u001b[0m \u001b[0mfont_name\u001b[0m \u001b[0;34m=\u001b[0m \u001b[0mfm\u001b[0m\u001b[0;34m.\u001b[0m\u001b[0mFontProperties\u001b[0m\u001b[0;34m(\u001b[0m\u001b[0mfname\u001b[0m\u001b[0;34m=\u001b[0m\u001b[0mpath\u001b[0m\u001b[0;34m,\u001b[0m \u001b[0msize\u001b[0m\u001b[0;34m=\u001b[0m\u001b[0;36m10\u001b[0m\u001b[0;34m)\u001b[0m\u001b[0;34m.\u001b[0m\u001b[0mget_name\u001b[0m\u001b[0;34m(\u001b[0m\u001b[0;34m)\u001b[0m \u001b[0;31m# 기본 폰트 사이즈 : 10\u001b[0m\u001b[0;34m\u001b[0m\u001b[0;34m\u001b[0m\u001b[0m\n\u001b[1;32m     10\u001b[0m \u001b[0mplt\u001b[0m\u001b[0;34m.\u001b[0m\u001b[0mrc\u001b[0m\u001b[0;34m(\u001b[0m\u001b[0;34m'font'\u001b[0m\u001b[0;34m,\u001b[0m \u001b[0mfamily\u001b[0m\u001b[0;34m=\u001b[0m\u001b[0mfont_name\u001b[0m\u001b[0;34m)\u001b[0m\u001b[0;34m\u001b[0m\u001b[0;34m\u001b[0m\u001b[0m\n\u001b[0;32m---> 11\u001b[0;31m \u001b[0mfm\u001b[0m\u001b[0;34m.\u001b[0m\u001b[0m_rebuild\u001b[0m\u001b[0;34m(\u001b[0m\u001b[0;34m)\u001b[0m\u001b[0;34m\u001b[0m\u001b[0;34m\u001b[0m\u001b[0m\n\u001b[0m",
            "\u001b[0;31mAttributeError\u001b[0m: module 'matplotlib.font_manager' has no attribute '_rebuild'"
          ]
        }
      ]
    },
    {
      "cell_type": "code",
      "source": [
        "# matplotlib.get_cachedir()"
      ],
      "metadata": {
        "colab": {
          "base_uri": "https://localhost:8080/",
          "height": 36
        },
        "id": "3x-MtAlszt3D",
        "outputId": "d65137cc-2aa7-4b59-b217-7bbb90904575"
      },
      "execution_count": null,
      "outputs": [
        {
          "output_type": "execute_result",
          "data": {
            "text/plain": [
              "'/root/.cache/matplotlib'"
            ],
            "application/vnd.google.colaboratory.intrinsic+json": {
              "type": "string"
            }
          },
          "metadata": {},
          "execution_count": 51
        }
      ]
    },
    {
      "cell_type": "code",
      "source": [
        "cd ~/.cache/matplotlib"
      ],
      "metadata": {
        "colab": {
          "base_uri": "https://localhost:8080/"
        },
        "id": "4eeOBSL73VSE",
        "outputId": "156c313f-28f9-4132-8eb0-11c37a0d4acf"
      },
      "execution_count": null,
      "outputs": [
        {
          "output_type": "stream",
          "name": "stdout",
          "text": [
            "/root/.cache/matplotlib\n"
          ]
        }
      ]
    },
    {
      "cell_type": "code",
      "source": [
        "rm -rf fontlist-v330.json"
      ],
      "metadata": {
        "id": "V82akOPN3b_X"
      },
      "execution_count": null,
      "outputs": []
    },
    {
      "cell_type": "code",
      "source": [
        "import matplotlib.font_manager as fm\n",
        "\n",
        "font_list = [font.name for font in fm.fontManager.ttflist]\n",
        "font_list"
      ],
      "metadata": {
        "colab": {
          "base_uri": "https://localhost:8080/"
        },
        "id": "qgsf8KUW6uFA",
        "outputId": "34a01191-aa0c-4779-9668-5ccdedf27231"
      },
      "execution_count": null,
      "outputs": [
        {
          "output_type": "execute_result",
          "data": {
            "text/plain": [
              "['cmsy10',\n",
              " 'cmex10',\n",
              " 'STIXNonUnicode',\n",
              " 'STIXNonUnicode',\n",
              " 'DejaVu Sans',\n",
              " 'DejaVu Serif',\n",
              " 'STIXSizeThreeSym',\n",
              " 'cmtt10',\n",
              " 'STIXSizeFourSym',\n",
              " 'STIXGeneral',\n",
              " 'STIXGeneral',\n",
              " 'STIXNonUnicode',\n",
              " 'DejaVu Sans Display',\n",
              " 'DejaVu Serif',\n",
              " 'STIXSizeTwoSym',\n",
              " 'DejaVu Sans Mono',\n",
              " 'STIXNonUnicode',\n",
              " 'DejaVu Sans Mono',\n",
              " 'STIXSizeThreeSym',\n",
              " 'cmr10',\n",
              " 'DejaVu Sans Mono',\n",
              " 'DejaVu Serif Display',\n",
              " 'STIXSizeOneSym',\n",
              " 'STIXGeneral',\n",
              " 'cmmi10',\n",
              " 'STIXSizeFiveSym',\n",
              " 'DejaVu Serif',\n",
              " 'DejaVu Sans Mono',\n",
              " 'DejaVu Sans',\n",
              " 'STIXSizeFourSym',\n",
              " 'STIXSizeOneSym',\n",
              " 'DejaVu Sans',\n",
              " 'cmb10',\n",
              " 'DejaVu Sans',\n",
              " 'DejaVu Serif',\n",
              " 'cmss10',\n",
              " 'STIXSizeTwoSym',\n",
              " 'STIXGeneral',\n",
              " 'Liberation Sans',\n",
              " 'Liberation Serif',\n",
              " 'Liberation Serif',\n",
              " 'Liberation Sans',\n",
              " 'Liberation Mono',\n",
              " 'Liberation Sans Narrow',\n",
              " 'Liberation Mono',\n",
              " 'Liberation Mono',\n",
              " 'Liberation Sans Narrow',\n",
              " 'Liberation Mono',\n",
              " 'Liberation Sans Narrow',\n",
              " 'Liberation Serif',\n",
              " 'Humor Sans',\n",
              " 'Liberation Sans',\n",
              " 'Liberation Serif',\n",
              " 'Liberation Sans Narrow',\n",
              " 'Liberation Sans']"
            ]
          },
          "metadata": {},
          "execution_count": 1
        }
      ]
    },
    {
      "cell_type": "code",
      "execution_count": 3,
      "metadata": {
        "id": "k3TGSJDduHrl"
      },
      "outputs": [],
      "source": [
        "import numpy as np\n",
        "import pandas as pd\n",
        "\n",
        "\n",
        "# import matplotlib as mpl\n",
        "# import matplotlib.font_manager\n",
        "import matplotlib.pyplot as plt\n",
        "import seaborn as sns\n",
        "\n",
        "%matplotlib inline\n",
        "\n",
        "plt.rcParams['axes.unicode_minus'] = False\n",
        "\n",
        "\n",
        "# from matplotlib import rc\n",
        "# import missingno as msno\n",
        "# import plotly.express as px\n"
      ]
    },
    {
      "cell_type": "code",
      "source": [
        "from google.colab import drive\n",
        "drive.mount('/content/drive')\n",
        "\n",
        "import os\n",
        "\n",
        "%cd /content/drive/MyDrive/Revision"
      ],
      "metadata": {
        "colab": {
          "base_uri": "https://localhost:8080/"
        },
        "id": "PlxTIEt91Dw9",
        "outputId": "eaa09d8c-54e8-4e75-9710-dea69650e5a4"
      },
      "execution_count": 1,
      "outputs": [
        {
          "output_type": "stream",
          "name": "stdout",
          "text": [
            "Mounted at /content/drive\n",
            "/content/drive/MyDrive/Revision\n"
          ]
        }
      ]
    },
    {
      "cell_type": "code",
      "source": [
        "df1 = pd.read_csv('KPI.csv')"
      ],
      "metadata": {
        "id": "D6lFHK5FwbXs"
      },
      "execution_count": 4,
      "outputs": []
    },
    {
      "cell_type": "code",
      "source": [
        "df2 = pd.read_csv('performance.csv')"
      ],
      "metadata": {
        "id": "jHa0HQ763rc3"
      },
      "execution_count": 5,
      "outputs": []
    },
    {
      "cell_type": "code",
      "source": [
        "df1.shape\n",
        "df1.info()\n",
        "df1.describe()\n",
        "df1.head(10)"
      ],
      "metadata": {
        "id": "hC9_3H5IwcT3"
      },
      "execution_count": null,
      "outputs": []
    },
    {
      "cell_type": "code",
      "source": [
        "daf1=df1.fillna(0)"
      ],
      "metadata": {
        "id": "3aVdH8Mc7fp3"
      },
      "execution_count": 7,
      "outputs": []
    },
    {
      "cell_type": "code",
      "source": [
        "daf1.head(10)"
      ],
      "metadata": {
        "id": "VmVBkPjI7y8j"
      },
      "execution_count": null,
      "outputs": []
    },
    {
      "cell_type": "markdown",
      "source": [
        "# 1. 가동률\n",
        "### 1) 전체모수(M/M), 가동수(M/M), 비가동수(M/M), Overbooking\n"
      ],
      "metadata": {
        "id": "Y6WCxVeAeMUS"
      }
    },
    {
      "cell_type": "code",
      "source": [
        "# import matplotlib.pyplot as plt\n",
        "\n",
        "# plt.rc('font', family = 'NanumGothic')\n",
        "# plt.rc('font', size = 12)\n",
        "# plt.rc('axes', unicode_minus = False)"
      ],
      "metadata": {
        "id": "NwH3bWORePHi"
      },
      "execution_count": null,
      "outputs": []
    },
    {
      "cell_type": "code",
      "source": [
        "plt.rcParams['font.family'] = 'AppleGothic'"
      ],
      "metadata": {
        "id": "CbvJahDZ6ZpU"
      },
      "execution_count": null,
      "outputs": []
    },
    {
      "cell_type": "code",
      "source": [
        "cir = ['Oper 230', 'non-Oper 37', 'Over 42']\n",
        "mm = [230, 37, 42]\n",
        "explode = [0.03] * 3\n",
        "colors = ['whitesmoke', 'silver', 'gold']\n",
        "\n",
        "# rc('font', family='Malgun Gothic')\n",
        "\n",
        "\n",
        "plt.figure(figsize = (10, 5))\n",
        "plt.title('Rate of Operation (M/M)')\n",
        "plt.pie(mm,\n",
        "        labels = cir,\n",
        "        startangle = 90,\n",
        "        counterclock = False,\n",
        "        explode = explode,\n",
        "        shadow = True,\n",
        "        labeldistance= 0.3,\n",
        "        colors=colors)\n",
        "plt.legend(loc = (1, 0.75), title = 'total 267' )\n",
        "plt.show()"
      ],
      "metadata": {
        "colab": {
          "base_uri": "https://localhost:8080/",
          "height": 444
        },
        "id": "X1ZKcpZ3eaqA",
        "outputId": "60ceaab9-c726-4c97-e78f-8005e0de4ffe"
      },
      "execution_count": 12,
      "outputs": [
        {
          "output_type": "display_data",
          "data": {
            "text/plain": [
              "<Figure size 1000x500 with 1 Axes>"
            ],
            "image/png": "[encoded data removed]"
          },
          "metadata": {}
        }
      ]
    },
    {
      "cell_type": "code",
      "source": [
        "daf1.groupby(['합계'])"
      ],
      "metadata": {
        "colab": {
          "base_uri": "https://localhost:8080/"
        },
        "id": "OyHbMELYm1Ih",
        "outputId": "bf11561a-e909-4adc-83b9-43b6d5cb3f0a"
      },
      "execution_count": 13,
      "outputs": [
        {
          "output_type": "execute_result",
          "data": {
            "text/plain": [
              "<pandas.core.groupby.generic.DataFrameGroupBy object at 0x7c78584fe590>"
            ]
          },
          "metadata": {},
          "execution_count": 13
        }
      ]
    },
    {
      "cell_type": "code",
      "source": [
        "kpi_sum = daf1.groupby(['이름'])['합계'].sum().sort_values(ascending=False)"
      ],
      "metadata": {
        "id": "jc01xoXTnfHA"
      },
      "execution_count": 14,
      "outputs": []
    },
    {
      "cell_type": "code",
      "source": [
        "kpi_sum.head()\n",
        "kpi_sum"
      ],
      "metadata": {
        "colab": {
          "base_uri": "https://localhost:8080/"
        },
        "id": "0zPsqsRQn839",
        "outputId": "d42c9027-c9d6-4d7c-efc6-c4f61869154f"
      },
      "execution_count": 15,
      "outputs": [
        {
          "output_type": "execute_result",
          "data": {
            "text/plain": [
              "이름\n",
              "장선주     12.70\n",
              "윤혜성     12.50\n",
              "한지수     12.50\n",
              "윤종혁     12.40\n",
              "서명교     11.75\n",
              "박성진B    11.50\n",
              "이재호     11.40\n",
              "윤채현     11.10\n",
              "박성진A    10.50\n",
              "김재혁     10.40\n",
              "성승연     10.00\n",
              "허찬회      9.90\n",
              "이하영      9.50\n",
              "김윤환      9.00\n",
              "조연희      8.10\n",
              "유일심      8.00\n",
              "추명정      7.30\n",
              "신윤석      7.00\n",
              "조기훈      7.00\n",
              "김민영      6.90\n",
              "배준홍      6.00\n",
              "이찬       4.00\n",
              "지광훈      1.80\n",
              "Name: 합계, dtype: float64"
            ]
          },
          "metadata": {},
          "execution_count": 15
        }
      ]
    },
    {
      "cell_type": "code",
      "source": [
        "hap = daf1[['합계', '이름']]\n",
        "hap_new = hap.groupby('이름').sum()\n",
        "hap_new"
      ],
      "metadata": {
        "id": "C4kGIVGY-bW0"
      },
      "execution_count": null,
      "outputs": []
    },
    {
      "cell_type": "code",
      "source": [
        "top_10 = kpi_sum[:10]\n",
        "print(top_10)\n",
        "\n",
        "plt.figure(figsize=(10,4))\n",
        "sns.barplot(data=top_10, x=top_10.index, y = [\"이름\"])\n",
        "plt.show()"
      ],
      "metadata": {
        "id": "Q4E38hHAo0GV"
      },
      "execution_count": null,
      "outputs": []
    },
    {
      "cell_type": "markdown",
      "source": [
        "### 2) 개인별 가동률\n",
        "- Max\n",
        "- Min\n",
        "- 평균"
      ],
      "metadata": {
        "id": "kBWbfc9cWkeA"
      }
    },
    {
      "cell_type": "code",
      "source": [
        "kpi_min = hap_new['합계'].min()\n",
        "print(kpi_min.round(2))"
      ],
      "metadata": {
        "colab": {
          "base_uri": "https://localhost:8080/"
        },
        "id": "yUDssWqNTFls",
        "outputId": "10381b4a-63fd-400f-a670-f7e1519cd415"
      },
      "execution_count": 28,
      "outputs": [
        {
          "output_type": "stream",
          "name": "stdout",
          "text": [
            "1.8\n"
          ]
        }
      ]
    },
    {
      "cell_type": "code",
      "source": [
        "kpi_max = hap_new['합계'].max()\n",
        "print(kpi_max.round(2))"
      ],
      "metadata": {
        "colab": {
          "base_uri": "https://localhost:8080/"
        },
        "id": "o0Y2mx5USJwj",
        "outputId": "b04a11a8-c047-41c6-9154-34ba19a9c26e"
      },
      "execution_count": 29,
      "outputs": [
        {
          "output_type": "stream",
          "name": "stdout",
          "text": [
            "12.7\n"
          ]
        }
      ]
    },
    {
      "cell_type": "code",
      "source": [
        "kpi_avg = hap_new['합계'].mean()\n",
        "print(kpi_avg.round(2))"
      ],
      "metadata": {
        "colab": {
          "base_uri": "https://localhost:8080/"
        },
        "id": "WdrymWLiUkxv",
        "outputId": "a2606ec4-16fd-4767-b24e-e90b52124e13"
      },
      "execution_count": 30,
      "outputs": [
        {
          "output_type": "stream",
          "name": "stdout",
          "text": [
            "9.18\n"
          ]
        }
      ]
    },
    {
      "cell_type": "markdown",
      "source": [
        "- 1 표준편차 범위(μ±1σ)\n",
        "- 중앙값(Me)\n",
        "- 최빈값(Mo)"
      ],
      "metadata": {
        "id": "u0Kq3MeqUwjo"
      }
    },
    {
      "cell_type": "code",
      "source": [
        "# x = daf1.loc[:,''] #x축을 시간으로 지정\n",
        "# y = daf1.loc[:,'x_mean'] #y축에 x,y,z라는 변수를 각각 지정\n",
        "# y1= daf1.loc[:,'y_mean']\n",
        "# y2= daf1.loc[:,'z_mean']\n",
        "\n",
        "# # 표준편차 지정\n",
        "# yerr = daf1.loc[:,'x_sd']\n",
        "# yerr1 = daf1.loc[:,'y_sd']\n",
        "# yerr2 = daf1.loc[:,'z_sd']"
      ],
      "metadata": {
        "id": "GMPNPxSFVByI"
      },
      "execution_count": null,
      "outputs": []
    },
    {
      "cell_type": "code",
      "source": [
        "df2.info()"
      ],
      "metadata": {
        "colab": {
          "base_uri": "https://localhost:8080/"
        },
        "id": "kCQbTqla4GQf",
        "outputId": "55763bd1-8d76-4730-a887-1d33daf0de9f"
      },
      "execution_count": null,
      "outputs": [
        {
          "output_type": "stream",
          "name": "stdout",
          "text": [
            "<class 'pandas.core.frame.DataFrame'>\n",
            "RangeIndex: 24 entries, 0 to 23\n",
            "Data columns (total 5 columns):\n",
            " #   Column    Non-Null Count  Dtype \n",
            "---  ------    --------------  ----- \n",
            " 0   팀명        24 non-null     object\n",
            " 1   성명        24 non-null     object\n",
            " 2   총합        24 non-null     object\n",
            " 3   공헌이익      24 non-null     object\n",
            " 4   정량성과 집행률  24 non-null     object\n",
            "dtypes: object(5)\n",
            "memory usage: 1.1+ KB\n"
          ]
        }
      ]
    },
    {
      "cell_type": "markdown",
      "source": [
        "\n",
        "# 2. 정량성과 집행율\n",
        "### 개인별 Max, Min / 편차 1 시그마, 중앙값(Me), 최빈값(Mo)  "
      ],
      "metadata": {
        "id": "_lPhKI0Okdly"
      }
    },
    {
      "cell_type": "code",
      "source": [
        "df2['정량성과 집행률'].median()"
      ],
      "metadata": {
        "id": "I6lFNtUcw6S4"
      },
      "execution_count": null,
      "outputs": []
    },
    {
      "cell_type": "code",
      "source": [
        "df2['정량성과 집행률'].min()"
      ],
      "metadata": {
        "id": "cR1TFH50xCVO"
      },
      "execution_count": null,
      "outputs": []
    },
    {
      "cell_type": "code",
      "source": [
        "df2['정량성과 집행률'].max()"
      ],
      "metadata": {
        "id": "xQ2Cx5P9xCMT"
      },
      "execution_count": null,
      "outputs": []
    },
    {
      "cell_type": "code",
      "source": [
        "df2['정량성과 집행률'].mean()"
      ],
      "metadata": {
        "id": "_rskOPZewqr_"
      },
      "execution_count": null,
      "outputs": []
    },
    {
      "cell_type": "code",
      "source": [
        "df2['정량성과 집행률'].std()"
      ],
      "metadata": {
        "id": "NMsRLzCRw6zz"
      },
      "execution_count": null,
      "outputs": []
    },
    {
      "cell_type": "code",
      "source": [
        "# 사분범위 (Inter Quantile Range , IQR ) :\n",
        "# 중위수를 기준으로 전체 데이터의 50%가 분포해 있는 범위\n",
        "\n",
        "df1[''].describe()"
      ],
      "metadata": {
        "id": "0uBhp8jXxB-S"
      },
      "execution_count": null,
      "outputs": []
    },
    {
      "cell_type": "code",
      "source": [
        "# 층별화 (범주형 항목에 대해 데이터를 나누어 확인)\n",
        "\n",
        "# NaN : Not A Number / 결측값\n",
        "# fill_value=  : Pivot Table결과에서 결측값을 다른 값으로 대체\n",
        "\n",
        "df1.pivot_table(index='', values='', columns='', aggfunc=['mean', 'median', 'min', 'max'], fill_value=0)\n"
      ],
      "metadata": {
        "id": "eC1T3QtOxbNP"
      },
      "execution_count": null,
      "outputs": []
    },
    {
      "cell_type": "markdown",
      "source": [
        "# Data Visualization"
      ],
      "metadata": {
        "id": "MO_0sr_9yqtU"
      }
    },
    {
      "cell_type": "code",
      "source": [
        "# 단일 변수 시각화\n",
        "# histogram 데이터의 분포를 빈도수로 표현\n",
        "\n",
        "sns.displot(data=df, x='kpi')\n",
        "plt.show()"
      ],
      "metadata": {
        "id": "T9x9Yfvmy3Cm"
      },
      "execution_count": null,
      "outputs": []
    }
  ]
}