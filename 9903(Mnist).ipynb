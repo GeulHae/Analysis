{
  "nbformat": 4,
  "nbformat_minor": 0,
  "metadata": {
    "colab": {
      "provenance": [],
      "include_colab_link": true
    },
    "kernelspec": {
      "name": "python3",
      "display_name": "Python 3"
    },
    "language_info": {
      "name": "python"
    },
    "accelerator": "GPU",
    "gpuClass": "standard"
  },
  "cells": [
    {
      "cell_type": "markdown",
      "metadata": {
        "id": "view-in-github",
        "colab_type": "text"
      },
      "source": [
        "<a href=\"https://colab.research.google.com/github/GeulHae/GeulHae/blob/dev_dataAnalysis/9903(Mnist).ipynb\" target=\"_parent\"><img src=\"https://colab.research.google.com/assets/colab-badge.svg\" alt=\"Open In Colab\"/></a>"
      ]
    },
    {
      "cell_type": "code",
      "execution_count": 14,
      "metadata": {
        "id": "9OjYNwsPtIj-"
      },
      "outputs": [],
      "source": [
        "import tensorflow as tf\n",
        "import numpy as np\n",
        "import matplotlib.pyplot as plt\n",
        "from tensorflow.keras.datasets import mnist\n",
        "from tensorflow.keras.layers import Dense, Flatten, Dropout, Conv2D, MaxPooling2D\n",
        "from tensorflow.keras import Model\n"
      ]
    },
    {
      "cell_type": "code",
      "source": [
        "(x_train, y_train),(x_test, y_test) = mnist.load_data()\n",
        "\n",
        "# print(x_train.shape)\n",
        "# print(x_test.shape)\n",
        "\n",
        "# x_train: (60000, 28, 28, 1)\n",
        "# x_test: (10000, 28, 28, 1)\n",
        "\n",
        "x_train=x_train.reshape(-1, 28, 28, 1)\n",
        "x_test=x_test.reshape(-1, 28, 28, 1)\n",
        "\n",
        "print(x_train.shape, x_test.shape)\n",
        "print(y_train.shape, y_test.shape)\n",
        "\n",
        "# 값 정규화 0~ 255 -> 0~1 사이의 값으로 나타냄\n",
        "# print(x_train[0][10]) \n",
        "x_train = x_train.astype(np.float32) / 255.0\n",
        "x_test = x_test.astype(np.float32) / 255.0\n",
        "\n",
        "# 범주화 값으로 변환\n",
        "y_train = tf.one_hot(y_train.astype(np.int32), depth=10)\n",
        "y_test = tf.one_hot(y_test.astype(np.int32), depth=10)"
      ],
      "metadata": {
        "id": "a1pZ0kYAA4RF",
        "colab": {
          "base_uri": "https://localhost:8080/"
        },
        "outputId": "f8aa1489-f4ac-4f95-93e5-7528ce9b8202"
      },
      "execution_count": 15,
      "outputs": [
        {
          "output_type": "stream",
          "name": "stdout",
          "text": [
            "Downloading data from https://storage.googleapis.com/tensorflow/tf-keras-datasets/mnist.npz\n",
            "11490434/11490434 [==============================] - 0s 0us/step\n",
            "(60000, 28, 28, 1) (10000, 28, 28, 1)\n",
            "(60000,) (10000,)\n"
          ]
        }
      ]
    },
    {
      "cell_type": "code",
      "source": [
        "batch_size = 64\n",
        "# num_classes = 10\n",
        "epochs = 5\n",
        "lr = 0.0001"
      ],
      "metadata": {
        "id": "7ytVxPlVCjNA"
      },
      "execution_count": 16,
      "outputs": []
    },
    {
      "cell_type": "code",
      "source": [
        "# CNN 모델 생성 / padding = same/valid\n",
        "\n",
        "def makeCNN():\n",
        "  model = tf.keras.models.Sequential([\n",
        "    tf.keras.layers.Conv2D(32, 3, padding='same', activation='relu', input_shape=(28, 28, 1)),\n",
        "    tf.keras.layers.MaxPool2D(2, 2),\n",
        "    tf.keras.layers.Dropout(0.25),\n",
        "    tf.keras.layers.Conv2D(64, 3, padding='same', activation='relu'),\n",
        "    tf.keras.layers.MaxPool2D(strides=(2,2)),\n",
        "    tf.keras.layers.Dropout(0.25),\n",
        "    tf.keras.layers.Flatten(),\n",
        "    tf.keras.layers.Dense(128, activation='relu'),\n",
        "    tf.keras.layers.Dropout(0.5),\n",
        "    tf.keras.layers.Dense(10, activation='softmax')\n",
        "])\n",
        "\n",
        "\n",
        "  model.compile(loss='categorical_crossentropy', optimizer=tf.keras.optimizers.Adam(learning_rate=lr), metrics=['accuracy'])\n",
        "  return model"
      ],
      "metadata": {
        "id": "fl9YkztrpefB"
      },
      "execution_count": 17,
      "outputs": []
    },
    {
      "cell_type": "code",
      "source": [
        "input_shape=(1, 28, 28, 1)\n",
        "x = tf.random.normal(input_shape)\n",
        "x = tf.keras.layers.Conv2D(32, 3, activation='relu', padding='same', input_shape=(28, 28, 1))(x)\n",
        "print(x.shape)\n",
        "x = tf.keras.layers.MaxPool2D(2, 2)(x)\n",
        "print(x.shape)"
      ],
      "metadata": {
        "colab": {
          "base_uri": "https://localhost:8080/"
        },
        "id": "aY1u7d4fgiUb",
        "outputId": "9fd5fb20-43ab-41a4-901a-b7f7999801a4"
      },
      "execution_count": 18,
      "outputs": [
        {
          "output_type": "stream",
          "name": "stdout",
          "text": [
            "(1, 28, 28, 32)\n",
            "(1, 14, 14, 32)\n"
          ]
        }
      ]
    },
    {
      "cell_type": "code",
      "source": [
        "def main():\n",
        "\n",
        "  model = makeCNN()\n",
        "\n",
        "  hist = model.fit(x_train,\n",
        "                   y_train,\n",
        "                   batch_size=batch_size,  # default=32\n",
        "                   epochs=20)\n",
        "  \n",
        "  fig, ax = plt.subplots(figsize=(14, 6))\n",
        "  \n",
        "  ax.plot(hist.history['accuracy'])\n",
        "  plt.legend(['accuracy'])\n",
        "\n",
        "  ax.set_xlabel('epoch')\n",
        "  ax.set_ylabel('accuracy')\n",
        "  \n",
        "  loss, accuracy = model.evaluate(x_test, y_test)\n",
        "  print('Accuracy = {:.4f}'.format(accuracy))\n",
        "  result = {'hist':hist, 'accuracy':accuracy}\n",
        "  return result"
      ],
      "metadata": {
        "id": "BIGr7nhkCdRQ"
      },
      "execution_count": 22,
      "outputs": []
    },
    {
      "cell_type": "code",
      "source": [
        "if __name__ == '__main__':\n",
        "  main()"
      ],
      "metadata": {
        "colab": {
          "base_uri": "https://localhost:8080/",
          "height": 1000
        },
        "id": "iYDD8kW1C2lQ",
        "outputId": "8a2441c7-7e59-4262-9fe6-04aaa3774418"
      },
      "execution_count": 23,
      "outputs": [
        {
          "output_type": "stream",
          "name": "stdout",
          "text": [
            "Epoch 1/20\n",
            "938/938 [==============================] - 7s 6ms/step - loss: 0.7284 - accuracy: 0.7691\n",
            "Epoch 2/20\n",
            "938/938 [==============================] - 5s 5ms/step - loss: 0.2782 - accuracy: 0.9164\n",
            "Epoch 3/20\n",
            "938/938 [==============================] - 4s 4ms/step - loss: 0.1940 - accuracy: 0.9422\n",
            "Epoch 4/20\n",
            "938/938 [==============================] - 5s 5ms/step - loss: 0.1567 - accuracy: 0.9535\n",
            "Epoch 5/20\n",
            "938/938 [==============================] - 4s 5ms/step - loss: 0.1359 - accuracy: 0.9590\n",
            "Epoch 6/20\n",
            "938/938 [==============================] - 4s 4ms/step - loss: 0.1164 - accuracy: 0.9643\n",
            "Epoch 7/20\n",
            "938/938 [==============================] - 5s 5ms/step - loss: 0.1057 - accuracy: 0.9682\n",
            "Epoch 8/20\n",
            "938/938 [==============================] - 4s 4ms/step - loss: 0.0989 - accuracy: 0.9707\n",
            "Epoch 9/20\n",
            "938/938 [==============================] - 4s 5ms/step - loss: 0.0880 - accuracy: 0.9731\n",
            "Epoch 10/20\n",
            "938/938 [==============================] - 5s 5ms/step - loss: 0.0852 - accuracy: 0.9747\n",
            "Epoch 11/20\n",
            "938/938 [==============================] - 4s 4ms/step - loss: 0.0795 - accuracy: 0.9755\n",
            "Epoch 12/20\n",
            "938/938 [==============================] - 4s 5ms/step - loss: 0.0729 - accuracy: 0.9774\n",
            "Epoch 13/20\n",
            "938/938 [==============================] - 5s 5ms/step - loss: 0.0701 - accuracy: 0.9790\n",
            "Epoch 14/20\n",
            "938/938 [==============================] - 4s 4ms/step - loss: 0.0672 - accuracy: 0.9795\n",
            "Epoch 15/20\n",
            "938/938 [==============================] - 5s 5ms/step - loss: 0.0628 - accuracy: 0.9811\n",
            "Epoch 16/20\n",
            "938/938 [==============================] - 4s 5ms/step - loss: 0.0602 - accuracy: 0.9816\n",
            "Epoch 17/20\n",
            "938/938 [==============================] - 4s 4ms/step - loss: 0.0575 - accuracy: 0.9819\n",
            "Epoch 18/20\n",
            "938/938 [==============================] - 5s 5ms/step - loss: 0.0570 - accuracy: 0.9825\n",
            "Epoch 19/20\n",
            "938/938 [==============================] - 4s 5ms/step - loss: 0.0559 - accuracy: 0.9828\n",
            "Epoch 20/20\n",
            "938/938 [==============================] - 4s 5ms/step - loss: 0.0530 - accuracy: 0.9839\n",
            "313/313 [==============================] - 1s 3ms/step - loss: 0.0273 - accuracy: 0.9903\n",
            "Accuracy = 0.9903\n"
          ]
        },
        {
          "output_type": "display_data",
          "data": {
            "text/plain": [
              "<Figure size 1400x600 with 1 Axes>"
            ],
            "image/png": "[encoded data removed]"
          },
          "metadata": {}
        }
      ]
    },
    {
      "cell_type": "code",
      "source": [],
      "metadata": {
        "id": "eh6kP7g2C3Rd"
      },
      "execution_count": null,
      "outputs": []
    }
  ]
}