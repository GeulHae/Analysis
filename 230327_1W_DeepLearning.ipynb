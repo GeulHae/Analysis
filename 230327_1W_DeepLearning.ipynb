{
  "nbformat": 4,
  "nbformat_minor": 0,
  "metadata": {
    "colab": {
      "provenance": [],
      "include_colab_link": true
    },
    "kernelspec": {
      "name": "python3",
      "display_name": "Python 3"
    },
    "language_info": {
      "name": "python"
    }
  },
  "cells": [
    {
      "cell_type": "markdown",
      "metadata": {
        "id": "view-in-github",
        "colab_type": "text"
      },
      "source": [
        "<a href=\"https://colab.research.google.com/github/GeulHae/GeulHae/blob/main/230327_1W_DeepLearning.ipynb\" target=\"_parent\"><img src=\"https://colab.research.google.com/assets/colab-badge.svg\" alt=\"Open In Colab\"/></a>"
      ]
    },
    {
      "cell_type": "markdown",
      "source": [
        "# 텐서플로우 (Tensorflow)\n",
        "\n",
        "<img src=\"https://upload.wikimedia.org/wikipedia/commons/thumb/1/11/TensorFlowLogo.svg/1200px-TensorFlowLogo.svg.png\" width=\"300\">\n",
        "\n",
        "- 가장 널리 쓰이는 딥러닝 프레임워크 중 하나\n",
        "\n",
        "- 구글이 주도적으로 개발하는 플랫폼\n",
        "\n",
        "- 파이썬, C++ API를 기본적으로 제공하고,  \n",
        "  자바스크립트(JavaScript), 자바(Java), 고(Go), 스위프트(Swift) 등 다양한 프로그래밍 언어를 지원\n",
        "\n",
        "\n",
        "- TPU(Tensor Processing Unit) 지원\n",
        "  - TPU는 GPU보다 전력을 적게 소모, 경제적\n",
        "  \n",
        "  - 일반적으로 32비트(float32)로 수행되는 곱셈 연산을 16비트(float16)로 낮춤 -> 빠르게 연산이 가능"
      ],
      "metadata": {
        "id": "ednvLiMGHpW5"
      }
    },
    {
      "cell_type": "code",
      "execution_count": null,
      "metadata": {
        "id": "jzbWILbXHnms"
      },
      "outputs": [],
      "source": [
        "import numpy as np\n",
        "import tensorflow as tf"
      ]
    },
    {
      "cell_type": "code",
      "source": [
        "print(tf .__version__)"
      ],
      "metadata": {
        "id": "45ffExWKHxMI",
        "colab": {
          "base_uri": "https://localhost:8080/"
        },
        "outputId": "01e3cc77-4e50-4c0a-9f81-1d5337fb7ced"
      },
      "execution_count": null,
      "outputs": [
        {
          "output_type": "stream",
          "name": "stdout",
          "text": [
            "2.11.0\n"
          ]
        }
      ]
    },
    {
      "cell_type": "markdown",
      "source": [
        "### 텐서(Tensor)의 객체\n",
        "\n",
        "- Matrix 의 확장 버전\n",
        "\n",
        "- 타입(Type): `string`, `float32`, `float16`, `int32`, `int8` 등\n",
        "\n",
        "- 형상(Shape): 0, 1, 2차원 등의 데이터 차원 \n",
        "\n",
        "- 축(Rank): 차원의 개수"
      ],
      "metadata": {
        "id": "G88LX5M8HxZG"
      }
    },
    {
      "cell_type": "markdown",
      "source": [],
      "metadata": {
        "id": "nWfQbMjfYAYm"
      }
    },
    {
      "cell_type": "markdown",
      "source": [
        "### 텐서의 차원과 연산"
      ],
      "metadata": {
        "id": "0js5uNPAH1iW"
      }
    },
    {
      "cell_type": "code",
      "source": [
        "# 상수 텐서 선언 ( scalr )\n",
        "\n",
        "a = tf.constant(2)\n",
        "print('rank', tf.rank(a))\n",
        "print(a)"
      ],
      "metadata": {
        "id": "nCsq1DS-HxuU",
        "colab": {
          "base_uri": "https://localhost:8080/"
        },
        "outputId": "f1134bc3-858b-45c7-db89-c07b89ca7d50"
      },
      "execution_count": null,
      "outputs": [
        {
          "output_type": "stream",
          "name": "stdout",
          "text": [
            "rank tf.Tensor(0, shape=(), dtype=int32)\n",
            "tf.Tensor(2, shape=(), dtype=int32)\n"
          ]
        }
      ]
    },
    {
      "cell_type": "code",
      "source": [
        "# 1차원 텐서 선언\n",
        "\n",
        "a = tf.constant([1, 2])\n",
        "print('rank', tf.rank(a))\n",
        "print(a)"
      ],
      "metadata": {
        "id": "irqRfAt_H3en",
        "colab": {
          "base_uri": "https://localhost:8080/"
        },
        "outputId": "9bcc023b-3dad-4f78-f629-a2cea9c48538"
      },
      "execution_count": null,
      "outputs": [
        {
          "output_type": "stream",
          "name": "stdout",
          "text": [
            "rank tf.Tensor(1, shape=(), dtype=int32)\n",
            "tf.Tensor([1 2], shape=(2,), dtype=int32)\n"
          ]
        }
      ]
    },
    {
      "cell_type": "code",
      "source": [
        "# 2차원 텐서 선언\n",
        "\n",
        "a = tf.constant([[2,3], [4,5]])\n",
        "print('rank', tf.rank(a))\n",
        "print(a)"
      ],
      "metadata": {
        "id": "4wyWGHYOH3W-",
        "colab": {
          "base_uri": "https://localhost:8080/"
        },
        "outputId": "08b6beac-8eb9-49fd-ce83-72dffd04528f"
      },
      "execution_count": null,
      "outputs": [
        {
          "output_type": "stream",
          "name": "stdout",
          "text": [
            "rank tf.Tensor(2, shape=(), dtype=int32)\n",
            "tf.Tensor(\n",
            "[[2 3]\n",
            " [4 5]], shape=(2, 2), dtype=int32)\n"
          ]
        }
      ]
    },
    {
      "cell_type": "code",
      "source": [
        "# string type 텐서 선언\n",
        "\n",
        "a = tf.constant(['Hello, HERA'])\n",
        "print('rank', tf.rank(a))\n",
        "print(a)"
      ],
      "metadata": {
        "id": "vxDxgpWiH3Mc",
        "colab": {
          "base_uri": "https://localhost:8080/"
        },
        "outputId": "a87fdd92-aaa6-422a-9ef4-ff1d4bed9801"
      },
      "execution_count": null,
      "outputs": [
        {
          "output_type": "stream",
          "name": "stdout",
          "text": [
            "rank tf.Tensor(1, shape=(), dtype=int32)\n",
            "tf.Tensor([b'Hello, HERA'], shape=(1,), dtype=string)\n"
          ]
        }
      ]
    },
    {
      "cell_type": "markdown",
      "source": [
        "### 난수 생성"
      ],
      "metadata": {
        "id": "nTbJss7pH3zi"
      }
    },
    {
      "cell_type": "code",
      "source": [
        "# uniform distribution (균일 분포)\n",
        "# ([shape], min_value, max_value)\n",
        "\n",
        "rand = tf.random.uniform([1], 0, 1)\n",
        "print(rand.shape)\n",
        "print(rand)"
      ],
      "metadata": {
        "id": "lVB7LEq5H507",
        "colab": {
          "base_uri": "https://localhost:8080/"
        },
        "outputId": "1cfb2c0d-1e54-4f31-d8c0-c448d05b4cbd"
      },
      "execution_count": null,
      "outputs": [
        {
          "output_type": "stream",
          "name": "stdout",
          "text": [
            "(1,)\n",
            "tf.Tensor([0.4543401], shape=(1,), dtype=float32)\n"
          ]
        }
      ]
    },
    {
      "cell_type": "code",
      "source": [
        "# 정규분포\n",
        "# ([shape], 평균, 표준편차)\n",
        "\n",
        "rand = tf.random.normal([1,2], 0, 1)\n",
        "print(rand.shape)\n",
        "print(rand)"
      ],
      "metadata": {
        "id": "47A9IIsOH7FA",
        "colab": {
          "base_uri": "https://localhost:8080/"
        },
        "outputId": "9a103f4a-60cc-4c15-e865-1fab20897b61"
      },
      "execution_count": null,
      "outputs": [
        {
          "output_type": "stream",
          "name": "stdout",
          "text": [
            "(1, 2)\n",
            "tf.Tensor([[-1.5464461  0.6224141]], shape=(1, 2), dtype=float32)\n"
          ]
        }
      ]
    },
    {
      "cell_type": "markdown",
      "source": [
        "### +, -, *, /"
      ],
      "metadata": {
        "id": "_SbzkUr8H7Wx"
      }
    },
    {
      "cell_type": "code",
      "source": [
        "a = tf.constant(3)\n",
        "b = tf.constant(2)"
      ],
      "metadata": {
        "id": "Vm2b_qpRH83n"
      },
      "execution_count": null,
      "outputs": []
    },
    {
      "cell_type": "code",
      "source": [
        "print(a + b)\n",
        "print(tf.add(a, b))"
      ],
      "metadata": {
        "id": "VzMhG-xiH-08",
        "colab": {
          "base_uri": "https://localhost:8080/"
        },
        "outputId": "e7733851-96b3-4f4f-b257-7b65ce440b4a"
      },
      "execution_count": null,
      "outputs": [
        {
          "output_type": "stream",
          "name": "stdout",
          "text": [
            "tf.Tensor(5, shape=(), dtype=int32)\n",
            "tf.Tensor(5, shape=(), dtype=int32)\n"
          ]
        }
      ]
    },
    {
      "cell_type": "code",
      "source": [
        "print(a - b)\n",
        "print(tf.subtract(a, b))"
      ],
      "metadata": {
        "id": "OtoPx9TSH-tc",
        "colab": {
          "base_uri": "https://localhost:8080/"
        },
        "outputId": "3e8ac2d6-d985-407e-9bd3-dcd5e03d6ba9"
      },
      "execution_count": null,
      "outputs": [
        {
          "output_type": "stream",
          "name": "stdout",
          "text": [
            "tf.Tensor(1, shape=(), dtype=int32)\n",
            "tf.Tensor(1, shape=(), dtype=int32)\n"
          ]
        }
      ]
    },
    {
      "cell_type": "code",
      "source": [
        "print(a * b)\n",
        "print(tf.multiply(a, b))"
      ],
      "metadata": {
        "id": "30bwc7nhH-mv",
        "colab": {
          "base_uri": "https://localhost:8080/"
        },
        "outputId": "4bdcc106-e56a-409e-c585-8ecbe99edba5"
      },
      "execution_count": null,
      "outputs": [
        {
          "output_type": "stream",
          "name": "stdout",
          "text": [
            "tf.Tensor(6, shape=(), dtype=int32)\n",
            "tf.Tensor(6, shape=(), dtype=int32)\n"
          ]
        }
      ]
    },
    {
      "cell_type": "code",
      "source": [
        "print(a / b)\n",
        "print(tf.divide(a, b))"
      ],
      "metadata": {
        "id": "BPuwjVWdH-hI",
        "colab": {
          "base_uri": "https://localhost:8080/"
        },
        "outputId": "9f9ec37f-6c8a-4c6f-ce1b-231138cfc063"
      },
      "execution_count": null,
      "outputs": [
        {
          "output_type": "stream",
          "name": "stdout",
          "text": [
            "tf.Tensor(1.5, shape=(), dtype=float64)\n",
            "tf.Tensor(1.5, shape=(), dtype=float64)\n"
          ]
        }
      ]
    },
    {
      "cell_type": "markdown",
      "source": [
        "### 텐서 플로우 ↔ 넘파이\n",
        "- `numpy()`\n",
        "- `tf.convet_to_tensor()`"
      ],
      "metadata": {
        "id": "Rl6RSJH4IAjJ"
      }
    },
    {
      "cell_type": "code",
      "source": [
        "c = tf.add(a, b)\n",
        "print(c)\n",
        "print(type(c))"
      ],
      "metadata": {
        "id": "S990Ecp3IAzQ",
        "colab": {
          "base_uri": "https://localhost:8080/"
        },
        "outputId": "50e03a10-6121-4d38-845d-32ff0b00cf41"
      },
      "execution_count": null,
      "outputs": [
        {
          "output_type": "stream",
          "name": "stdout",
          "text": [
            "tf.Tensor(5, shape=(), dtype=int32)\n",
            "<class 'tensorflow.python.framework.ops.EagerTensor'>\n"
          ]
        }
      ]
    },
    {
      "cell_type": "code",
      "source": [
        "c = tf.add(a, b).numpy()\n",
        "\n",
        "print(c)\n",
        "print(type(c))\n",
        "\n",
        "# 5\n",
        "# <class 'numpy.int32'>"
      ],
      "metadata": {
        "colab": {
          "base_uri": "https://localhost:8080/"
        },
        "id": "6UYhdX03dcam",
        "outputId": "0f59708e-4508-47be-9cf5-57893dd8da9c"
      },
      "execution_count": null,
      "outputs": [
        {
          "output_type": "stream",
          "name": "stdout",
          "text": [
            "5\n",
            "<class 'numpy.int32'>\n"
          ]
        }
      ]
    },
    {
      "cell_type": "code",
      "source": [
        "c_square = np.square(c, dtype=np.float32)\n",
        "\n",
        "print(c_square)\n",
        "print(type(c_square))\n",
        "\n",
        "# 25.0\n",
        "# <class 'numpy.float32'>"
      ],
      "metadata": {
        "colab": {
          "base_uri": "https://localhost:8080/"
        },
        "id": "2cz0AVXZdiTk",
        "outputId": "061b260c-c1ef-4c30-f116-612639cddc50"
      },
      "execution_count": null,
      "outputs": [
        {
          "output_type": "stream",
          "name": "stdout",
          "text": [
            "25.0\n",
            "<class 'numpy.float32'>\n"
          ]
        }
      ]
    },
    {
      "cell_type": "code",
      "source": [
        "c_tensor = tf.convert_to_tensor(c_square)\n",
        "\n",
        "print(c_tensor)\n",
        "print(type(c_tensor))\n",
        "\n",
        "# tf.Tensor(25.0, shape=(), dtype=float32)\n",
        "# <class 'tensorflow.python.framework.ops.EagerTensor'>"
      ],
      "metadata": {
        "id": "C9ZOxQmZIDpJ",
        "colab": {
          "base_uri": "https://localhost:8080/"
        },
        "outputId": "3ca23c05-3a8b-4bf0-8e26-fd275d5571af"
      },
      "execution_count": null,
      "outputs": [
        {
          "output_type": "stream",
          "name": "stdout",
          "text": [
            "tf.Tensor(25.0, shape=(), dtype=float32)\n",
            "<class 'tensorflow.python.framework.ops.EagerTensor'>\n"
          ]
        }
      ]
    },
    {
      "cell_type": "markdown",
      "source": [
        "### 슬라이싱"
      ],
      "metadata": {
        "id": "RSLxyLjgIFRT"
      }
    },
    {
      "cell_type": "code",
      "source": [
        "t = tf.constant([[1., 2., 3.,], [4., 5., 6.]])\n",
        "print(t)\n",
        "\n",
        "# [[1, 2, 3]\n",
        "#  [4, 5, 6]]\n",
        "\n",
        "# [[2, 3]\n",
        "#  [5, 6]]\n",
        "\n",
        "# tf.Tensor(\n",
        "# [[1. 2. 3.]\n",
        "#  [4. 5. 6.]], shape=(2, 3), dtype=float32)"
      ],
      "metadata": {
        "id": "n1xaV36fIFe2",
        "colab": {
          "base_uri": "https://localhost:8080/"
        },
        "outputId": "f3ce0780-26a5-42d1-966e-3e8c9fd266f1"
      },
      "execution_count": null,
      "outputs": [
        {
          "output_type": "stream",
          "name": "stdout",
          "text": [
            "tf.Tensor(\n",
            "[[1. 2. 3.]\n",
            " [4. 5. 6.]], shape=(2, 3), dtype=float32)\n"
          ]
        }
      ]
    },
    {
      "cell_type": "code",
      "source": [
        "print(t[:, 1: ])\n",
        "\n",
        "# tf.Tensor(\n",
        "# [[2. 3.]\n",
        "#  [5. 6.]], shape=(2, 2), dtype=float32)"
      ],
      "metadata": {
        "id": "Wqjr2pF9IGkU",
        "colab": {
          "base_uri": "https://localhost:8080/"
        },
        "outputId": "be524e27-45aa-4991-c03b-d3bfa4ee5c5b"
      },
      "execution_count": null,
      "outputs": [
        {
          "output_type": "stream",
          "name": "stdout",
          "text": [
            "tf.Tensor(\n",
            "[[2. 3.]\n",
            " [5. 6.]], shape=(2, 2), dtype=float32)\n"
          ]
        }
      ]
    },
    {
      "cell_type": "markdown",
      "source": [
        "### 타입 변환\n",
        "- 텐서의 기본 dtype\n",
        "  - float형 텐서: `float32`\n",
        "  - int형 텐서: `int32`\n",
        "\n",
        "- 연산시 텐서의 타입을 맞춰줘야 함\n",
        "  - `float32` ~ `float32`\n",
        "  - `int32` ~ `int32`\n",
        "  - `flot32` ~ `int32` (x)\n",
        "\n",
        "- 타입변환에는 `tf.cast()` 사용"
      ],
      "metadata": {
        "id": "0S4uaCsqIHve"
      }
    },
    {
      "cell_type": "code",
      "source": [
        "a = tf.constant(2)\n",
        "print(a)\n",
        "\n",
        "b = tf.constant(2.)\n",
        "print(b)\n",
        "\n",
        "# tf.Tensor(2, shape=(), dtype=int32)\n",
        "# tf.Tensor(2.0, shape=(), dtype=float32)"
      ],
      "metadata": {
        "id": "Jv0bworaIH7h",
        "colab": {
          "base_uri": "https://localhost:8080/"
        },
        "outputId": "c3c3fee9-7148-4702-bda9-25af9cbf708a"
      },
      "execution_count": null,
      "outputs": [
        {
          "output_type": "stream",
          "name": "stdout",
          "text": [
            "tf.Tensor(2, shape=(), dtype=int32)\n",
            "tf.Tensor(2.0, shape=(), dtype=float32)\n"
          ]
        }
      ]
    },
    {
      "cell_type": "code",
      "source": [
        "# 연산시 타입을 맞춰줘야 함, Error 발생 \n",
        "# a + b\n",
        "\n",
        "tf.constant(2) + tf.constant(2.)\n",
        "\n",
        "\n",
        "# ---------------------------------------------------------------------------\n",
        "# InvalidArgumentError                      Traceback (most recent call last)\n",
        "# <ipython-input-34-5e73f98a350d> in <module>\n",
        "# ----> 1 tf.constant(2) + tf.constant(2.)\n",
        "\n",
        "# 1 frames\n",
        "# /usr/local/lib/python3.9/dist-packages/tensorflow/python/util/traceback_utils.py in error_handler(*args, **kwargs)\n",
        "#     151     except Exception as e:\n",
        "#     152       filtered_tb = _process_traceback_frames(e.__traceback__)\n",
        "# --> 153       raise e.with_traceback(filtered_tb) from None\n",
        "#     154     finally:\n",
        "#     155       del filtered_tb\n",
        "\n",
        "# /usr/local/lib/python3.9/dist-packages/tensorflow/python/framework/ops.py in raise_from_not_ok_status(e, name)\n",
        "#    7213 def raise_from_not_ok_status(e, name):\n",
        "#    7214   e.message += (\" name: \" + name if name is not None else \"\")\n",
        "# -> 7215   raise core._status_to_exception(e) from None  # pylint: disable=protected-access\n",
        "#    7216 \n",
        "#    7217 \n",
        "\n",
        "# InvalidArgumentError: cannot compute AddV2 as input #1(zero-based) was expected to be a int32 tensor but is a float tensor [Op:AddV2]"
      ],
      "metadata": {
        "id": "YYTBGAXLIJtZ",
        "colab": {
          "base_uri": "https://localhost:8080/",
          "height": 444
        },
        "outputId": "92c07097-6886-4bfd-e676-e1662340d38d"
      },
      "execution_count": null,
      "outputs": [
        {
          "output_type": "error",
          "ename": "InvalidArgumentError",
          "evalue": "ignored",
          "traceback": [
            "\u001b[0;31m---------------------------------------------------------------------------\u001b[0m",
            "\u001b[0;31mInvalidArgumentError\u001b[0m                      Traceback (most recent call last)",
            "\u001b[0;32m<ipython-input-34-5e73f98a350d>\u001b[0m in \u001b[0;36m<module>\u001b[0;34m\u001b[0m\n\u001b[0;32m----> 1\u001b[0;31m \u001b[0mtf\u001b[0m\u001b[0;34m.\u001b[0m\u001b[0mconstant\u001b[0m\u001b[0;34m(\u001b[0m\u001b[0;36m2\u001b[0m\u001b[0;34m)\u001b[0m \u001b[0;34m+\u001b[0m \u001b[0mtf\u001b[0m\u001b[0;34m.\u001b[0m\u001b[0mconstant\u001b[0m\u001b[0;34m(\u001b[0m\u001b[0;36m2.\u001b[0m\u001b[0;34m)\u001b[0m\u001b[0;34m\u001b[0m\u001b[0;34m\u001b[0m\u001b[0m\n\u001b[0m",
            "\u001b[0;32m/usr/local/lib/python3.9/dist-packages/tensorflow/python/util/traceback_utils.py\u001b[0m in \u001b[0;36merror_handler\u001b[0;34m(*args, **kwargs)\u001b[0m\n\u001b[1;32m    151\u001b[0m     \u001b[0;32mexcept\u001b[0m \u001b[0mException\u001b[0m \u001b[0;32mas\u001b[0m \u001b[0me\u001b[0m\u001b[0;34m:\u001b[0m\u001b[0;34m\u001b[0m\u001b[0;34m\u001b[0m\u001b[0m\n\u001b[1;32m    152\u001b[0m       \u001b[0mfiltered_tb\u001b[0m \u001b[0;34m=\u001b[0m \u001b[0m_process_traceback_frames\u001b[0m\u001b[0;34m(\u001b[0m\u001b[0me\u001b[0m\u001b[0;34m.\u001b[0m\u001b[0m__traceback__\u001b[0m\u001b[0;34m)\u001b[0m\u001b[0;34m\u001b[0m\u001b[0;34m\u001b[0m\u001b[0m\n\u001b[0;32m--> 153\u001b[0;31m       \u001b[0;32mraise\u001b[0m \u001b[0me\u001b[0m\u001b[0;34m.\u001b[0m\u001b[0mwith_traceback\u001b[0m\u001b[0;34m(\u001b[0m\u001b[0mfiltered_tb\u001b[0m\u001b[0;34m)\u001b[0m \u001b[0;32mfrom\u001b[0m \u001b[0;32mNone\u001b[0m\u001b[0;34m\u001b[0m\u001b[0;34m\u001b[0m\u001b[0m\n\u001b[0m\u001b[1;32m    154\u001b[0m     \u001b[0;32mfinally\u001b[0m\u001b[0;34m:\u001b[0m\u001b[0;34m\u001b[0m\u001b[0;34m\u001b[0m\u001b[0m\n\u001b[1;32m    155\u001b[0m       \u001b[0;32mdel\u001b[0m \u001b[0mfiltered_tb\u001b[0m\u001b[0;34m\u001b[0m\u001b[0;34m\u001b[0m\u001b[0m\n",
            "\u001b[0;32m/usr/local/lib/python3.9/dist-packages/tensorflow/python/framework/ops.py\u001b[0m in \u001b[0;36mraise_from_not_ok_status\u001b[0;34m(e, name)\u001b[0m\n\u001b[1;32m   7213\u001b[0m \u001b[0;32mdef\u001b[0m \u001b[0mraise_from_not_ok_status\u001b[0m\u001b[0;34m(\u001b[0m\u001b[0me\u001b[0m\u001b[0;34m,\u001b[0m \u001b[0mname\u001b[0m\u001b[0;34m)\u001b[0m\u001b[0;34m:\u001b[0m\u001b[0;34m\u001b[0m\u001b[0;34m\u001b[0m\u001b[0m\n\u001b[1;32m   7214\u001b[0m   \u001b[0me\u001b[0m\u001b[0;34m.\u001b[0m\u001b[0mmessage\u001b[0m \u001b[0;34m+=\u001b[0m \u001b[0;34m(\u001b[0m\u001b[0;34m\" name: \"\u001b[0m \u001b[0;34m+\u001b[0m \u001b[0mname\u001b[0m \u001b[0;32mif\u001b[0m \u001b[0mname\u001b[0m \u001b[0;32mis\u001b[0m \u001b[0;32mnot\u001b[0m \u001b[0;32mNone\u001b[0m \u001b[0;32melse\u001b[0m \u001b[0;34m\"\"\u001b[0m\u001b[0;34m)\u001b[0m\u001b[0;34m\u001b[0m\u001b[0;34m\u001b[0m\u001b[0m\n\u001b[0;32m-> 7215\u001b[0;31m   \u001b[0;32mraise\u001b[0m \u001b[0mcore\u001b[0m\u001b[0;34m.\u001b[0m\u001b[0m_status_to_exception\u001b[0m\u001b[0;34m(\u001b[0m\u001b[0me\u001b[0m\u001b[0;34m)\u001b[0m \u001b[0;32mfrom\u001b[0m \u001b[0;32mNone\u001b[0m  \u001b[0;31m# pylint: disable=protected-access\u001b[0m\u001b[0;34m\u001b[0m\u001b[0;34m\u001b[0m\u001b[0m\n\u001b[0m\u001b[1;32m   7216\u001b[0m \u001b[0;34m\u001b[0m\u001b[0m\n\u001b[1;32m   7217\u001b[0m \u001b[0;34m\u001b[0m\u001b[0m\n",
            "\u001b[0;31mInvalidArgumentError\u001b[0m: cannot compute AddV2 as input #1(zero-based) was expected to be a int32 tensor but is a float tensor [Op:AddV2]"
          ]
        }
      ]
    },
    {
      "cell_type": "code",
      "source": [
        "# 검색 = google 텐서플로우 형변환  # cast \n",
        "\n",
        "# 기존 b # tf.Tensor(2.0, shape=(), dtype=float32)\n",
        "print(b)\n",
        "\n",
        "# Type 변환 메소드 tf.cast (변환하고싶은 변수, 바꿀 타입)\n",
        "b = tf.cast(b, tf.int32)\n",
        "print(b)\n",
        "\n",
        "\n",
        "# tf.Tensor(2.0, shape=(), dtype=float32)\n",
        "# tf.Tensor(2, shape=(), dtype=int32)"
      ],
      "metadata": {
        "id": "VGSwoTdrIJq-",
        "colab": {
          "base_uri": "https://localhost:8080/"
        },
        "outputId": "b360c5d6-142c-4fe0-a87c-0a1aea9addec"
      },
      "execution_count": null,
      "outputs": [
        {
          "output_type": "stream",
          "name": "stdout",
          "text": [
            "tf.Tensor(2.0, shape=(), dtype=float32)\n",
            "tf.Tensor(2, shape=(), dtype=int32)\n"
          ]
        }
      ]
    },
    {
      "cell_type": "code",
      "source": [
        "a + b\n",
        "\n",
        "# <tf.Tensor: shape=(), dtype=int32, numpy=4>"
      ],
      "metadata": {
        "id": "FpkEXsrBIJow",
        "colab": {
          "base_uri": "https://localhost:8080/"
        },
        "outputId": "92f04630-2179-4b35-8ae0-ca7fb33f37b8"
      },
      "execution_count": null,
      "outputs": [
        {
          "output_type": "execute_result",
          "data": {
            "text/plain": [
              "<tf.Tensor: shape=(), dtype=int32, numpy=4>"
            ]
          },
          "metadata": {},
          "execution_count": 36
        }
      ]
    },
    {
      "cell_type": "markdown",
      "source": [
        "### 변수 생성\n",
        "\n",
        "- `tf.Variable`\n",
        "- 딥러닝 모델 학습 시, 그래프 연산이 필요할 때 사용"
      ],
      "metadata": {
        "id": "I3cSg_TKIKKY"
      }
    },
    {
      "cell_type": "code",
      "source": [
        "# constant 와 크게 차이가 없다. / 좀 더 심화 하면 런타임, 리소스에서 차이\n",
        "# constant = 상수  Variable = 변수\n",
        "\n",
        "x = tf.Variable(20.0)\n",
        "print(x)\n",
        "\n",
        "# <tf.Variable 'Variable:0' shape=() dtype=float32, numpy=20.0>"
      ],
      "metadata": {
        "id": "NqsxuWw4IL3j",
        "colab": {
          "base_uri": "https://localhost:8080/"
        },
        "outputId": "a38ed0d5-60a5-4573-a0c9-0492d2a981b1"
      },
      "execution_count": null,
      "outputs": [
        {
          "output_type": "stream",
          "name": "stdout",
          "text": [
            "<tf.Variable 'Variable:0' shape=() dtype=float32, numpy=20.0>\n"
          ]
        }
      ]
    },
    {
      "cell_type": "markdown",
      "source": [
        "# heart attack"
      ],
      "metadata": {
        "id": "aJhlKU2xIQjf"
      }
    },
    {
      "cell_type": "code",
      "source": [
        "import seaborn as sns\n",
        "import pandas as pd\n",
        "import numpy as np\n",
        "import matplotlib.pyplot as plt\n",
        "import tensorflow as tf\n",
        "import os\n",
        "from sklearn.preprocessing import LabelEncoder\n",
        "from sklearn.model_selection import train_test_split\n",
        "from tensorflow.keras.models import Sequential\n",
        "from tensorflow.keras.layers import Dense\n",
        "from tensorflow.keras.optimizers import Adam"
      ],
      "metadata": {
        "id": "5K7WyO9AIQ4Z"
      },
      "execution_count": null,
      "outputs": []
    },
    {
      "cell_type": "code",
      "source": [
        "#heart attack prediction 데이터셋 읽기 (함수화(readData()) 해서 실행하는 코드)\n",
        "# index_col => Unname 안생기고 생성 가능\n",
        "# 파일 오른쪽 ... 클릭 & 경로복사\n",
        "\n",
        "def readData():\n",
        "  heart = pd.read_csv('/content/heart.csv', index_col=0)\n",
        "  return heart"
      ],
      "metadata": {
        "id": "bsOIZV0bITBj"
      },
      "execution_count": 44,
      "outputs": []
    },
    {
      "cell_type": "code",
      "source": [
        "heart = readData()\n",
        "\n",
        "#나이, 성별, Chest pain type, blood pressure....\n",
        "heart"
      ],
      "metadata": {
        "colab": {
          "base_uri": "https://localhost:8080/",
          "height": 424
        },
        "id": "bs2BUyOsIUtl",
        "outputId": "7d7b1ca8-3bde-4fbd-a165-3852fbf52168"
      },
      "execution_count": 45,
      "outputs": [
        {
          "output_type": "execute_result",
          "data": {
            "text/plain": [
              "     age  sex  cp  trtbps  chol  fbs  restecg  thalachh  exng  oldpeak  slp  \\\n",
              "0     63    1   3     145   233    1        0       150     0      2.3    0   \n",
              "1     37    1   2     130   250    0        1       187     0      3.5    0   \n",
              "2     41    0   1     130   204    0        0       172     0      1.4    2   \n",
              "3     56    1   1     120   236    0        1       178     0      0.8    2   \n",
              "4     57    0   0     120   354    0        1       163     1      0.6    2   \n",
              "..   ...  ...  ..     ...   ...  ...      ...       ...   ...      ...  ...   \n",
              "298   57    0   0     140   241    0        1       123     1      0.2    1   \n",
              "299   45    1   3     110   264    0        1       132     0      1.2    1   \n",
              "300   68    1   0     144   193    1        1       141     0      3.4    1   \n",
              "301   57    1   0     130   131    0        1       115     1      1.2    1   \n",
              "302   57    0   1     130   236    0        0       174     0      0.0    1   \n",
              "\n",
              "     caa  thall  output  \n",
              "0      0      1       1  \n",
              "1      0      2       1  \n",
              "2      0      2       1  \n",
              "3      0      2       1  \n",
              "4      0      2       1  \n",
              "..   ...    ...     ...  \n",
              "298    0      3       0  \n",
              "299    0      3       0  \n",
              "300    2      3       0  \n",
              "301    1      3       0  \n",
              "302    1      2       0  \n",
              "\n",
              "[303 rows x 14 columns]"
            ],
            "text/html": [
              "\n",
              "  <div id=\"df-9912bd66-1ca1-4eb4-8abc-a744bfddb948\">\n",
              "    <div class=\"colab-df-container\">\n",
              "      <div>\n",
              "<style scoped>\n",
              "    .dataframe tbody tr th:only-of-type {\n",
              "        vertical-align: middle;\n",
              "    }\n",
              "\n",
              "    .dataframe tbody tr th {\n",
              "        vertical-align: top;\n",
              "    }\n",
              "\n",
              "    .dataframe thead th {\n",
              "        text-align: right;\n",
              "    }\n",
              "</style>\n",
              "<table border=\"1\" class=\"dataframe\">\n",
              "  <thead>\n",
              "    <tr style=\"text-align: right;\">\n",
              "      <th></th>\n",
              "      <th>age</th>\n",
              "      <th>sex</th>\n",
              "      <th>cp</th>\n",
              "      <th>trtbps</th>\n",
              "      <th>chol</th>\n",
              "      <th>fbs</th>\n",
              "      <th>restecg</th>\n",
              "      <th>thalachh</th>\n",
              "      <th>exng</th>\n",
              "      <th>oldpeak</th>\n",
              "      <th>slp</th>\n",
              "      <th>caa</th>\n",
              "      <th>thall</th>\n",
              "      <th>output</th>\n",
              "    </tr>\n",
              "  </thead>\n",
              "  <tbody>\n",
              "    <tr>\n",
              "      <th>0</th>\n",
              "      <td>63</td>\n",
              "      <td>1</td>\n",
              "      <td>3</td>\n",
              "      <td>145</td>\n",
              "      <td>233</td>\n",
              "      <td>1</td>\n",
              "      <td>0</td>\n",
              "      <td>150</td>\n",
              "      <td>0</td>\n",
              "      <td>2.3</td>\n",
              "      <td>0</td>\n",
              "      <td>0</td>\n",
              "      <td>1</td>\n",
              "      <td>1</td>\n",
              "    </tr>\n",
              "    <tr>\n",
              "      <th>1</th>\n",
              "      <td>37</td>\n",
              "      <td>1</td>\n",
              "      <td>2</td>\n",
              "      <td>130</td>\n",
              "      <td>250</td>\n",
              "      <td>0</td>\n",
              "      <td>1</td>\n",
              "      <td>187</td>\n",
              "      <td>0</td>\n",
              "      <td>3.5</td>\n",
              "      <td>0</td>\n",
              "      <td>0</td>\n",
              "      <td>2</td>\n",
              "      <td>1</td>\n",
              "    </tr>\n",
              "    <tr>\n",
              "      <th>2</th>\n",
              "      <td>41</td>\n",
              "      <td>0</td>\n",
              "      <td>1</td>\n",
              "      <td>130</td>\n",
              "      <td>204</td>\n",
              "      <td>0</td>\n",
              "      <td>0</td>\n",
              "      <td>172</td>\n",
              "      <td>0</td>\n",
              "      <td>1.4</td>\n",
              "      <td>2</td>\n",
              "      <td>0</td>\n",
              "      <td>2</td>\n",
              "      <td>1</td>\n",
              "    </tr>\n",
              "    <tr>\n",
              "      <th>3</th>\n",
              "      <td>56</td>\n",
              "      <td>1</td>\n",
              "      <td>1</td>\n",
              "      <td>120</td>\n",
              "      <td>236</td>\n",
              "      <td>0</td>\n",
              "      <td>1</td>\n",
              "      <td>178</td>\n",
              "      <td>0</td>\n",
              "      <td>0.8</td>\n",
              "      <td>2</td>\n",
              "      <td>0</td>\n",
              "      <td>2</td>\n",
              "      <td>1</td>\n",
              "    </tr>\n",
              "    <tr>\n",
              "      <th>4</th>\n",
              "      <td>57</td>\n",
              "      <td>0</td>\n",
              "      <td>0</td>\n",
              "      <td>120</td>\n",
              "      <td>354</td>\n",
              "      <td>0</td>\n",
              "      <td>1</td>\n",
              "      <td>163</td>\n",
              "      <td>1</td>\n",
              "      <td>0.6</td>\n",
              "      <td>2</td>\n",
              "      <td>0</td>\n",
              "      <td>2</td>\n",
              "      <td>1</td>\n",
              "    </tr>\n",
              "    <tr>\n",
              "      <th>...</th>\n",
              "      <td>...</td>\n",
              "      <td>...</td>\n",
              "      <td>...</td>\n",
              "      <td>...</td>\n",
              "      <td>...</td>\n",
              "      <td>...</td>\n",
              "      <td>...</td>\n",
              "      <td>...</td>\n",
              "      <td>...</td>\n",
              "      <td>...</td>\n",
              "      <td>...</td>\n",
              "      <td>...</td>\n",
              "      <td>...</td>\n",
              "      <td>...</td>\n",
              "    </tr>\n",
              "    <tr>\n",
              "      <th>298</th>\n",
              "      <td>57</td>\n",
              "      <td>0</td>\n",
              "      <td>0</td>\n",
              "      <td>140</td>\n",
              "      <td>241</td>\n",
              "      <td>0</td>\n",
              "      <td>1</td>\n",
              "      <td>123</td>\n",
              "      <td>1</td>\n",
              "      <td>0.2</td>\n",
              "      <td>1</td>\n",
              "      <td>0</td>\n",
              "      <td>3</td>\n",
              "      <td>0</td>\n",
              "    </tr>\n",
              "    <tr>\n",
              "      <th>299</th>\n",
              "      <td>45</td>\n",
              "      <td>1</td>\n",
              "      <td>3</td>\n",
              "      <td>110</td>\n",
              "      <td>264</td>\n",
              "      <td>0</td>\n",
              "      <td>1</td>\n",
              "      <td>132</td>\n",
              "      <td>0</td>\n",
              "      <td>1.2</td>\n",
              "      <td>1</td>\n",
              "      <td>0</td>\n",
              "      <td>3</td>\n",
              "      <td>0</td>\n",
              "    </tr>\n",
              "    <tr>\n",
              "      <th>300</th>\n",
              "      <td>68</td>\n",
              "      <td>1</td>\n",
              "      <td>0</td>\n",
              "      <td>144</td>\n",
              "      <td>193</td>\n",
              "      <td>1</td>\n",
              "      <td>1</td>\n",
              "      <td>141</td>\n",
              "      <td>0</td>\n",
              "      <td>3.4</td>\n",
              "      <td>1</td>\n",
              "      <td>2</td>\n",
              "      <td>3</td>\n",
              "      <td>0</td>\n",
              "    </tr>\n",
              "    <tr>\n",
              "      <th>301</th>\n",
              "      <td>57</td>\n",
              "      <td>1</td>\n",
              "      <td>0</td>\n",
              "      <td>130</td>\n",
              "      <td>131</td>\n",
              "      <td>0</td>\n",
              "      <td>1</td>\n",
              "      <td>115</td>\n",
              "      <td>1</td>\n",
              "      <td>1.2</td>\n",
              "      <td>1</td>\n",
              "      <td>1</td>\n",
              "      <td>3</td>\n",
              "      <td>0</td>\n",
              "    </tr>\n",
              "    <tr>\n",
              "      <th>302</th>\n",
              "      <td>57</td>\n",
              "      <td>0</td>\n",
              "      <td>1</td>\n",
              "      <td>130</td>\n",
              "      <td>236</td>\n",
              "      <td>0</td>\n",
              "      <td>0</td>\n",
              "      <td>174</td>\n",
              "      <td>0</td>\n",
              "      <td>0.0</td>\n",
              "      <td>1</td>\n",
              "      <td>1</td>\n",
              "      <td>2</td>\n",
              "      <td>0</td>\n",
              "    </tr>\n",
              "  </tbody>\n",
              "</table>\n",
              "<p>303 rows × 14 columns</p>\n",
              "</div>\n",
              "      <button class=\"colab-df-convert\" onclick=\"convertToInteractive('df-9912bd66-1ca1-4eb4-8abc-a744bfddb948')\"\n",
              "              title=\"Convert this dataframe to an interactive table.\"\n",
              "              style=\"display:none;\">\n",
              "        \n",
              "  <svg xmlns=\"http://www.w3.org/2000/svg\" height=\"24px\"viewBox=\"0 0 24 24\"\n",
              "       width=\"24px\">\n",
              "    <path d=\"M0 0h24v24H0V0z\" fill=\"none\"/>\n",
              "    <path d=\"M18.56 5.44l.94 2.06.94-2.06 2.06-.94-2.06-.94-.94-2.06-.94 2.06-2.06.94zm-11 1L8.5 8.5l.94-2.06 2.06-.94-2.06-.94L8.5 2.5l-.94 2.06-2.06.94zm10 10l.94 2.06.94-2.06 2.06-.94-2.06-.94-.94-2.06-.94 2.06-2.06.94z\"/><path d=\"M17.41 7.96l-1.37-1.37c-.4-.4-.92-.59-1.43-.59-.52 0-1.04.2-1.43.59L10.3 9.45l-7.72 7.72c-.78.78-.78 2.05 0 2.83L4 21.41c.39.39.9.59 1.41.59.51 0 1.02-.2 1.41-.59l7.78-7.78 2.81-2.81c.8-.78.8-2.07 0-2.86zM5.41 20L4 18.59l7.72-7.72 1.47 1.35L5.41 20z\"/>\n",
              "  </svg>\n",
              "      </button>\n",
              "      \n",
              "  <style>\n",
              "    .colab-df-container {\n",
              "      display:flex;\n",
              "      flex-wrap:wrap;\n",
              "      gap: 12px;\n",
              "    }\n",
              "\n",
              "    .colab-df-convert {\n",
              "      background-color: #E8F0FE;\n",
              "      border: none;\n",
              "      border-radius: 50%;\n",
              "      cursor: pointer;\n",
              "      display: none;\n",
              "      fill: #1967D2;\n",
              "      height: 32px;\n",
              "      padding: 0 0 0 0;\n",
              "      width: 32px;\n",
              "    }\n",
              "\n",
              "    .colab-df-convert:hover {\n",
              "      background-color: #E2EBFA;\n",
              "      box-shadow: 0px 1px 2px rgba(60, 64, 67, 0.3), 0px 1px 3px 1px rgba(60, 64, 67, 0.15);\n",
              "      fill: #174EA6;\n",
              "    }\n",
              "\n",
              "    [theme=dark] .colab-df-convert {\n",
              "      background-color: #3B4455;\n",
              "      fill: #D2E3FC;\n",
              "    }\n",
              "\n",
              "    [theme=dark] .colab-df-convert:hover {\n",
              "      background-color: #434B5C;\n",
              "      box-shadow: 0px 1px 3px 1px rgba(0, 0, 0, 0.15);\n",
              "      filter: drop-shadow(0px 1px 2px rgba(0, 0, 0, 0.3));\n",
              "      fill: #FFFFFF;\n",
              "    }\n",
              "  </style>\n",
              "\n",
              "      <script>\n",
              "        const buttonEl =\n",
              "          document.querySelector('#df-9912bd66-1ca1-4eb4-8abc-a744bfddb948 button.colab-df-convert');\n",
              "        buttonEl.style.display =\n",
              "          google.colab.kernel.accessAllowed ? 'block' : 'none';\n",
              "\n",
              "        async function convertToInteractive(key) {\n",
              "          const element = document.querySelector('#df-9912bd66-1ca1-4eb4-8abc-a744bfddb948');\n",
              "          const dataTable =\n",
              "            await google.colab.kernel.invokeFunction('convertToInteractive',\n",
              "                                                     [key], {});\n",
              "          if (!dataTable) return;\n",
              "\n",
              "          const docLinkHtml = 'Like what you see? Visit the ' +\n",
              "            '<a target=\"_blank\" href=https://colab.research.google.com/notebooks/data_table.ipynb>data table notebook</a>'\n",
              "            + ' to learn more about interactive tables.';\n",
              "          element.innerHTML = '';\n",
              "          dataTable['output_type'] = 'display_data';\n",
              "          await google.colab.output.renderOutput(dataTable, element);\n",
              "          const docLink = document.createElement('div');\n",
              "          docLink.innerHTML = docLinkHtml;\n",
              "          element.appendChild(docLink);\n",
              "        }\n",
              "      </script>\n",
              "    </div>\n",
              "  </div>\n",
              "  "
            ]
          },
          "metadata": {},
          "execution_count": 45
        }
      ]
    },
    {
      "cell_type": "code",
      "source": [
        "from google.colab import drive\n",
        "drive.mount('/content/drive')"
      ],
      "metadata": {
        "id": "VN_378dTjd-y",
        "colab": {
          "base_uri": "https://localhost:8080/",
          "height": 337
        },
        "outputId": "56f817b9-1d56-47a8-d676-1835743251ed"
      },
      "execution_count": 48,
      "outputs": [
        {
          "output_type": "error",
          "ename": "MessageError",
          "evalue": "ignored",
          "traceback": [
            "\u001b[0;31m---------------------------------------------------------------------------\u001b[0m",
            "\u001b[0;31mMessageError\u001b[0m                              Traceback (most recent call last)",
            "\u001b[0;32m<ipython-input-48-d5df0069828e>\u001b[0m in \u001b[0;36m<module>\u001b[0;34m\u001b[0m\n\u001b[1;32m      1\u001b[0m \u001b[0;32mfrom\u001b[0m \u001b[0mgoogle\u001b[0m\u001b[0;34m.\u001b[0m\u001b[0mcolab\u001b[0m \u001b[0;32mimport\u001b[0m \u001b[0mdrive\u001b[0m\u001b[0;34m\u001b[0m\u001b[0;34m\u001b[0m\u001b[0m\n\u001b[0;32m----> 2\u001b[0;31m \u001b[0mdrive\u001b[0m\u001b[0;34m.\u001b[0m\u001b[0mmount\u001b[0m\u001b[0;34m(\u001b[0m\u001b[0;34m'/content/drive'\u001b[0m\u001b[0;34m)\u001b[0m\u001b[0;34m\u001b[0m\u001b[0;34m\u001b[0m\u001b[0m\n\u001b[0m",
            "\u001b[0;32m/usr/local/lib/python3.9/dist-packages/google/colab/drive.py\u001b[0m in \u001b[0;36mmount\u001b[0;34m(mountpoint, force_remount, timeout_ms, readonly)\u001b[0m\n\u001b[1;32m    101\u001b[0m \u001b[0;32mdef\u001b[0m \u001b[0mmount\u001b[0m\u001b[0;34m(\u001b[0m\u001b[0mmountpoint\u001b[0m\u001b[0;34m,\u001b[0m \u001b[0mforce_remount\u001b[0m\u001b[0;34m=\u001b[0m\u001b[0;32mFalse\u001b[0m\u001b[0;34m,\u001b[0m \u001b[0mtimeout_ms\u001b[0m\u001b[0;34m=\u001b[0m\u001b[0;36m120000\u001b[0m\u001b[0;34m,\u001b[0m \u001b[0mreadonly\u001b[0m\u001b[0;34m=\u001b[0m\u001b[0;32mFalse\u001b[0m\u001b[0;34m)\u001b[0m\u001b[0;34m:\u001b[0m\u001b[0;34m\u001b[0m\u001b[0;34m\u001b[0m\u001b[0m\n\u001b[1;32m    102\u001b[0m   \u001b[0;34m\"\"\"Mount your Google Drive at the specified mountpoint path.\"\"\"\u001b[0m\u001b[0;34m\u001b[0m\u001b[0;34m\u001b[0m\u001b[0m\n\u001b[0;32m--> 103\u001b[0;31m   return _mount(\n\u001b[0m\u001b[1;32m    104\u001b[0m       \u001b[0mmountpoint\u001b[0m\u001b[0;34m,\u001b[0m\u001b[0;34m\u001b[0m\u001b[0;34m\u001b[0m\u001b[0m\n\u001b[1;32m    105\u001b[0m       \u001b[0mforce_remount\u001b[0m\u001b[0;34m=\u001b[0m\u001b[0mforce_remount\u001b[0m\u001b[0;34m,\u001b[0m\u001b[0;34m\u001b[0m\u001b[0;34m\u001b[0m\u001b[0m\n",
            "\u001b[0;32m/usr/local/lib/python3.9/dist-packages/google/colab/drive.py\u001b[0m in \u001b[0;36m_mount\u001b[0;34m(mountpoint, force_remount, timeout_ms, ephemeral, readonly)\u001b[0m\n\u001b[1;32m    130\u001b[0m   )\n\u001b[1;32m    131\u001b[0m   \u001b[0;32mif\u001b[0m \u001b[0mephemeral\u001b[0m\u001b[0;34m:\u001b[0m\u001b[0;34m\u001b[0m\u001b[0;34m\u001b[0m\u001b[0m\n\u001b[0;32m--> 132\u001b[0;31m     _message.blocking_request(\n\u001b[0m\u001b[1;32m    133\u001b[0m         \u001b[0;34m'request_auth'\u001b[0m\u001b[0;34m,\u001b[0m \u001b[0mrequest\u001b[0m\u001b[0;34m=\u001b[0m\u001b[0;34m{\u001b[0m\u001b[0;34m'authType'\u001b[0m\u001b[0;34m:\u001b[0m \u001b[0;34m'dfs_ephemeral'\u001b[0m\u001b[0;34m}\u001b[0m\u001b[0;34m,\u001b[0m \u001b[0mtimeout_sec\u001b[0m\u001b[0;34m=\u001b[0m\u001b[0;32mNone\u001b[0m\u001b[0;34m\u001b[0m\u001b[0;34m\u001b[0m\u001b[0m\n\u001b[1;32m    134\u001b[0m     )\n",
            "\u001b[0;32m/usr/local/lib/python3.9/dist-packages/google/colab/_message.py\u001b[0m in \u001b[0;36mblocking_request\u001b[0;34m(request_type, request, timeout_sec, parent)\u001b[0m\n\u001b[1;32m    175\u001b[0m       \u001b[0mrequest_type\u001b[0m\u001b[0;34m,\u001b[0m \u001b[0mrequest\u001b[0m\u001b[0;34m,\u001b[0m \u001b[0mparent\u001b[0m\u001b[0;34m=\u001b[0m\u001b[0mparent\u001b[0m\u001b[0;34m,\u001b[0m \u001b[0mexpect_reply\u001b[0m\u001b[0;34m=\u001b[0m\u001b[0;32mTrue\u001b[0m\u001b[0;34m\u001b[0m\u001b[0;34m\u001b[0m\u001b[0m\n\u001b[1;32m    176\u001b[0m   )\n\u001b[0;32m--> 177\u001b[0;31m   \u001b[0;32mreturn\u001b[0m \u001b[0mread_reply_from_input\u001b[0m\u001b[0;34m(\u001b[0m\u001b[0mrequest_id\u001b[0m\u001b[0;34m,\u001b[0m \u001b[0mtimeout_sec\u001b[0m\u001b[0;34m)\u001b[0m\u001b[0;34m\u001b[0m\u001b[0;34m\u001b[0m\u001b[0m\n\u001b[0m",
            "\u001b[0;32m/usr/local/lib/python3.9/dist-packages/google/colab/_message.py\u001b[0m in \u001b[0;36mread_reply_from_input\u001b[0;34m(message_id, timeout_sec)\u001b[0m\n\u001b[1;32m    102\u001b[0m     ):\n\u001b[1;32m    103\u001b[0m       \u001b[0;32mif\u001b[0m \u001b[0;34m'error'\u001b[0m \u001b[0;32min\u001b[0m \u001b[0mreply\u001b[0m\u001b[0;34m:\u001b[0m\u001b[0;34m\u001b[0m\u001b[0;34m\u001b[0m\u001b[0m\n\u001b[0;32m--> 104\u001b[0;31m         \u001b[0;32mraise\u001b[0m \u001b[0mMessageError\u001b[0m\u001b[0;34m(\u001b[0m\u001b[0mreply\u001b[0m\u001b[0;34m[\u001b[0m\u001b[0;34m'error'\u001b[0m\u001b[0;34m]\u001b[0m\u001b[0;34m)\u001b[0m\u001b[0;34m\u001b[0m\u001b[0;34m\u001b[0m\u001b[0m\n\u001b[0m\u001b[1;32m    105\u001b[0m       \u001b[0;32mreturn\u001b[0m \u001b[0mreply\u001b[0m\u001b[0;34m.\u001b[0m\u001b[0mget\u001b[0m\u001b[0;34m(\u001b[0m\u001b[0;34m'data'\u001b[0m\u001b[0;34m,\u001b[0m \u001b[0;32mNone\u001b[0m\u001b[0;34m)\u001b[0m\u001b[0;34m\u001b[0m\u001b[0;34m\u001b[0m\u001b[0m\n\u001b[1;32m    106\u001b[0m \u001b[0;34m\u001b[0m\u001b[0m\n",
            "\u001b[0;31mMessageError\u001b[0m: Error: credential propagation was unsuccessful"
          ]
        }
      ]
    },
    {
      "cell_type": "code",
      "source": [
        "#데이터셋 분류 - train/test\n",
        "def makeXY(data):\n",
        "  X = data.iloc[:, :-1].values\n",
        "  _y = data.iloc[:, -1]\n",
        "  _y = LabelEncoder().fit_transform(_y) #-> 카테고리형 데이터를 수치형으로 변환\n",
        "  Y = pd.get_dummies(_y).values\n",
        "  return train_test_split(X, Y, test_size=0.2, random_state=25)"
      ],
      "metadata": {
        "id": "416gAz7lIWoL"
      },
      "execution_count": null,
      "outputs": []
    },
    {
      "cell_type": "code",
      "source": [
        "#model 작성 ( 노드 수 변경도 해보고 이것저것 바꿔보기!~ )\n",
        "# \n",
        "# 예측값이 0 또는 1, 그래서 노드값이 2\n",
        "# compile \n",
        "# loss = crossentropy / MSE / 등등등 / 분류 문제에서는 categorical이 좀 더 잘 된다고 적용해 봄\n",
        "\n",
        "def makeModel():\n",
        "  model = tf.keras.models.Sequential([\n",
        "      tf.keras.layers.Dense(32, activation='sigmoid', input_shape=(13,)),\n",
        "      tf.keras.layers.Dense(2, activation='softmax')])\n",
        "  model.compile(loss='categorical_crossentropy',\n",
        "                optimizer='Adam',\n",
        "                metrics=['accuracy'])\n",
        "  \n",
        "  return model"
      ],
      "metadata": {
        "id": "9IcvKUGhIYl9"
      },
      "execution_count": null,
      "outputs": []
    },
    {
      "cell_type": "code",
      "source": [
        "# model 적중률 측정 Test Set\n",
        "# \n",
        "def heartEvaluate(model, X_test, y_test):\n",
        "  loss, accuracy = model.evaluate(X_test, y_test)\n",
        "  return accuracy"
      ],
      "metadata": {
        "id": "iMud0yIQIceQ"
      },
      "execution_count": null,
      "outputs": []
    },
    {
      "cell_type": "code",
      "source": [
        "# 데이터 불러와서 , \n",
        "# 데이터를 나누고,\n",
        "# 몇개의 층을 쌓을지,\n",
        "# comfile해 ( 모델에 맞게 최고의 성능을 내기 위해 계속해서 실험)\n",
        "# Test 데이터 셋으로 평가\n",
        "# epochs 무조건 많은게 좋은것 아니다 . overfit\n",
        "\n",
        "# 훈련\n",
        "# 평가\n",
        "# epochs = 100 100번 반복해\n",
        "# 정확도는 올라가고 loss값은 떨어지고 aproch가 점점점점 올라가는게 그래프로 확인이 가능\n",
        "# 훈련과정 그림그리기 한번 시키고\n",
        "\n",
        "def main():\n",
        "  heart = readData()\n",
        "  X_train, X_test, y_train, y_test = makeXY(heart)\n",
        "  model = makeModel()\n",
        "\n",
        "  hist = model.fit(X_train,\n",
        "                   y_train,\n",
        "                   validation_data=(X_test, y_test),\n",
        "                   epochs=100)\n",
        "  \n",
        "  fig, ax = plt.subplots(figsize=(14, 6))\n",
        "  \n",
        "  ax.plot(hist.history['accuracy'])\n",
        "  ax.plot(hist.history['val_accuracy'])\n",
        "  plt.legend(['accuracy', 'val_accuracy'])\n",
        "\n",
        "  ax.set_xlabel('X1')\n",
        "  ax.set_ylabel('X2')\n",
        "  \n",
        "  accuracy = heartEvaluate(model, X_test, y_test)\n",
        "  print('Accuracy = {:.4f}'.format(accuracy))\n",
        "  result = {'hist':hist, 'accuracy':accuracy}\n",
        "  return result"
      ],
      "metadata": {
        "id": "pAEMbh2zIdjC"
      },
      "execution_count": null,
      "outputs": []
    },
    {
      "cell_type": "code",
      "source": [
        "if __name__ == '__main__':\n",
        "  main()"
      ],
      "metadata": {
        "colab": {
          "base_uri": "https://localhost:8080/",
          "height": 1000
        },
        "id": "aFW3K4eUIe97",
        "outputId": "139667e7-1509-4ffe-a89f-d4c0d47b11cd"
      },
      "execution_count": null,
      "outputs": [
        {
          "output_type": "stream",
          "name": "stdout",
          "text": [
            "Epoch 1/100\n",
            "8/8 [==============================] - 1s 26ms/step - loss: 0.8766 - accuracy: 0.4504 - val_loss: 0.8006 - val_accuracy: 0.4754\n",
            "Epoch 2/100\n",
            "8/8 [==============================] - 0s 6ms/step - loss: 0.8058 - accuracy: 0.4504 - val_loss: 0.7393 - val_accuracy: 0.4754\n",
            "Epoch 3/100\n",
            "8/8 [==============================] - 0s 5ms/step - loss: 0.7419 - accuracy: 0.4876 - val_loss: 0.6884 - val_accuracy: 0.5902\n",
            "Epoch 4/100\n",
            "8/8 [==============================] - 0s 4ms/step - loss: 0.7062 - accuracy: 0.5000 - val_loss: 0.6647 - val_accuracy: 0.6393\n",
            "Epoch 5/100\n",
            "8/8 [==============================] - 0s 6ms/step - loss: 0.6772 - accuracy: 0.5909 - val_loss: 0.6620 - val_accuracy: 0.6393\n",
            "Epoch 6/100\n",
            "8/8 [==============================] - 0s 8ms/step - loss: 0.6710 - accuracy: 0.6116 - val_loss: 0.6576 - val_accuracy: 0.5902\n",
            "Epoch 7/100\n",
            "8/8 [==============================] - 0s 5ms/step - loss: 0.6652 - accuracy: 0.6240 - val_loss: 0.6468 - val_accuracy: 0.6230\n",
            "Epoch 8/100\n",
            "8/8 [==============================] - 0s 8ms/step - loss: 0.6569 - accuracy: 0.6281 - val_loss: 0.6355 - val_accuracy: 0.6393\n",
            "Epoch 9/100\n",
            "8/8 [==============================] - 0s 4ms/step - loss: 0.6529 - accuracy: 0.6198 - val_loss: 0.6317 - val_accuracy: 0.6393\n",
            "Epoch 10/100\n",
            "8/8 [==============================] - 0s 9ms/step - loss: 0.6442 - accuracy: 0.6198 - val_loss: 0.6392 - val_accuracy: 0.6230\n",
            "Epoch 11/100\n",
            "8/8 [==============================] - 0s 4ms/step - loss: 0.6348 - accuracy: 0.6116 - val_loss: 0.6446 - val_accuracy: 0.5902\n",
            "Epoch 12/100\n",
            "8/8 [==============================] - 0s 5ms/step - loss: 0.6327 - accuracy: 0.6281 - val_loss: 0.6368 - val_accuracy: 0.6721\n",
            "Epoch 13/100\n",
            "8/8 [==============================] - 0s 5ms/step - loss: 0.6284 - accuracy: 0.6488 - val_loss: 0.6346 - val_accuracy: 0.7049\n",
            "Epoch 14/100\n",
            "8/8 [==============================] - 0s 5ms/step - loss: 0.6265 - accuracy: 0.6777 - val_loss: 0.6336 - val_accuracy: 0.7377\n",
            "Epoch 15/100\n",
            "8/8 [==============================] - 0s 8ms/step - loss: 0.6243 - accuracy: 0.7066 - val_loss: 0.6344 - val_accuracy: 0.7213\n",
            "Epoch 16/100\n",
            "8/8 [==============================] - 0s 6ms/step - loss: 0.6229 - accuracy: 0.6942 - val_loss: 0.6351 - val_accuracy: 0.6885\n",
            "Epoch 17/100\n",
            "8/8 [==============================] - 0s 5ms/step - loss: 0.6205 - accuracy: 0.6983 - val_loss: 0.6319 - val_accuracy: 0.7213\n",
            "Epoch 18/100\n",
            "8/8 [==============================] - 0s 8ms/step - loss: 0.6197 - accuracy: 0.6942 - val_loss: 0.6305 - val_accuracy: 0.7377\n",
            "Epoch 19/100\n",
            "8/8 [==============================] - 0s 5ms/step - loss: 0.6177 - accuracy: 0.7107 - val_loss: 0.6295 - val_accuracy: 0.7377\n",
            "Epoch 20/100\n",
            "8/8 [==============================] - 0s 5ms/step - loss: 0.6172 - accuracy: 0.7066 - val_loss: 0.6308 - val_accuracy: 0.7377\n",
            "Epoch 21/100\n",
            "8/8 [==============================] - 0s 6ms/step - loss: 0.6154 - accuracy: 0.7149 - val_loss: 0.6318 - val_accuracy: 0.6885\n",
            "Epoch 22/100\n",
            "8/8 [==============================] - 0s 7ms/step - loss: 0.6143 - accuracy: 0.7025 - val_loss: 0.6291 - val_accuracy: 0.6885\n",
            "Epoch 23/100\n",
            "8/8 [==============================] - 0s 5ms/step - loss: 0.6130 - accuracy: 0.7025 - val_loss: 0.6268 - val_accuracy: 0.6885\n",
            "Epoch 24/100\n",
            "8/8 [==============================] - 0s 5ms/step - loss: 0.6117 - accuracy: 0.6983 - val_loss: 0.6232 - val_accuracy: 0.7377\n",
            "Epoch 25/100\n",
            "8/8 [==============================] - 0s 8ms/step - loss: 0.6106 - accuracy: 0.7066 - val_loss: 0.6260 - val_accuracy: 0.6885\n",
            "Epoch 26/100\n",
            "8/8 [==============================] - 0s 4ms/step - loss: 0.6097 - accuracy: 0.6942 - val_loss: 0.6260 - val_accuracy: 0.7049\n",
            "Epoch 27/100\n",
            "8/8 [==============================] - 0s 5ms/step - loss: 0.6079 - accuracy: 0.7066 - val_loss: 0.6230 - val_accuracy: 0.7049\n",
            "Epoch 28/100\n",
            "8/8 [==============================] - 0s 4ms/step - loss: 0.6072 - accuracy: 0.7190 - val_loss: 0.6199 - val_accuracy: 0.7377\n",
            "Epoch 29/100\n",
            "8/8 [==============================] - 0s 4ms/step - loss: 0.6066 - accuracy: 0.7107 - val_loss: 0.6178 - val_accuracy: 0.7377\n",
            "Epoch 30/100\n",
            "8/8 [==============================] - 0s 4ms/step - loss: 0.6043 - accuracy: 0.7231 - val_loss: 0.6222 - val_accuracy: 0.7049\n",
            "Epoch 31/100\n",
            "8/8 [==============================] - 0s 8ms/step - loss: 0.6033 - accuracy: 0.7190 - val_loss: 0.6206 - val_accuracy: 0.7049\n",
            "Epoch 32/100\n",
            "8/8 [==============================] - 0s 5ms/step - loss: 0.6024 - accuracy: 0.7149 - val_loss: 0.6183 - val_accuracy: 0.6885\n",
            "Epoch 33/100\n",
            "8/8 [==============================] - 0s 5ms/step - loss: 0.6014 - accuracy: 0.7149 - val_loss: 0.6149 - val_accuracy: 0.7049\n",
            "Epoch 34/100\n",
            "8/8 [==============================] - 0s 6ms/step - loss: 0.6003 - accuracy: 0.7149 - val_loss: 0.6122 - val_accuracy: 0.7049\n",
            "Epoch 35/100\n",
            "8/8 [==============================] - 0s 5ms/step - loss: 0.5993 - accuracy: 0.7107 - val_loss: 0.6131 - val_accuracy: 0.7049\n",
            "Epoch 36/100\n",
            "8/8 [==============================] - 0s 5ms/step - loss: 0.5969 - accuracy: 0.7149 - val_loss: 0.6132 - val_accuracy: 0.7049\n",
            "Epoch 37/100\n",
            "8/8 [==============================] - 0s 5ms/step - loss: 0.5963 - accuracy: 0.7190 - val_loss: 0.6109 - val_accuracy: 0.6885\n",
            "Epoch 38/100\n",
            "8/8 [==============================] - 0s 8ms/step - loss: 0.5959 - accuracy: 0.7231 - val_loss: 0.6098 - val_accuracy: 0.7049\n",
            "Epoch 39/100\n",
            "8/8 [==============================] - 0s 5ms/step - loss: 0.5930 - accuracy: 0.7107 - val_loss: 0.6080 - val_accuracy: 0.7049\n",
            "Epoch 40/100\n",
            "8/8 [==============================] - 0s 7ms/step - loss: 0.5932 - accuracy: 0.7273 - val_loss: 0.6052 - val_accuracy: 0.6885\n",
            "Epoch 41/100\n",
            "8/8 [==============================] - 0s 5ms/step - loss: 0.5921 - accuracy: 0.7273 - val_loss: 0.6050 - val_accuracy: 0.7049\n",
            "Epoch 42/100\n",
            "8/8 [==============================] - 0s 7ms/step - loss: 0.5909 - accuracy: 0.7190 - val_loss: 0.6049 - val_accuracy: 0.7049\n",
            "Epoch 43/100\n",
            "8/8 [==============================] - 0s 4ms/step - loss: 0.5889 - accuracy: 0.7107 - val_loss: 0.6095 - val_accuracy: 0.6885\n",
            "Epoch 44/100\n",
            "8/8 [==============================] - 0s 5ms/step - loss: 0.5886 - accuracy: 0.7231 - val_loss: 0.6082 - val_accuracy: 0.7049\n",
            "Epoch 45/100\n",
            "8/8 [==============================] - 0s 8ms/step - loss: 0.5870 - accuracy: 0.7355 - val_loss: 0.6063 - val_accuracy: 0.7049\n",
            "Epoch 46/100\n",
            "8/8 [==============================] - 0s 5ms/step - loss: 0.5863 - accuracy: 0.7190 - val_loss: 0.6033 - val_accuracy: 0.7213\n",
            "Epoch 47/100\n",
            "8/8 [==============================] - 0s 5ms/step - loss: 0.5856 - accuracy: 0.7273 - val_loss: 0.6007 - val_accuracy: 0.7213\n",
            "Epoch 48/100\n",
            "8/8 [==============================] - 0s 10ms/step - loss: 0.5845 - accuracy: 0.7314 - val_loss: 0.5991 - val_accuracy: 0.7049\n",
            "Epoch 49/100\n",
            "8/8 [==============================] - 0s 18ms/step - loss: 0.5842 - accuracy: 0.7355 - val_loss: 0.6026 - val_accuracy: 0.6885\n",
            "Epoch 50/100\n",
            "8/8 [==============================] - 0s 10ms/step - loss: 0.5831 - accuracy: 0.7231 - val_loss: 0.6003 - val_accuracy: 0.7213\n",
            "Epoch 51/100\n",
            "8/8 [==============================] - 0s 8ms/step - loss: 0.5827 - accuracy: 0.7273 - val_loss: 0.6014 - val_accuracy: 0.7049\n",
            "Epoch 52/100\n",
            "8/8 [==============================] - 0s 8ms/step - loss: 0.5807 - accuracy: 0.7397 - val_loss: 0.6035 - val_accuracy: 0.6885\n",
            "Epoch 53/100\n",
            "8/8 [==============================] - 0s 13ms/step - loss: 0.5851 - accuracy: 0.7231 - val_loss: 0.6037 - val_accuracy: 0.6885\n",
            "Epoch 54/100\n",
            "8/8 [==============================] - 0s 19ms/step - loss: 0.5808 - accuracy: 0.7314 - val_loss: 0.5964 - val_accuracy: 0.7049\n",
            "Epoch 55/100\n",
            "8/8 [==============================] - 0s 8ms/step - loss: 0.5798 - accuracy: 0.7314 - val_loss: 0.5954 - val_accuracy: 0.7213\n",
            "Epoch 56/100\n",
            "8/8 [==============================] - 0s 11ms/step - loss: 0.5786 - accuracy: 0.7314 - val_loss: 0.5950 - val_accuracy: 0.6885\n",
            "Epoch 57/100\n",
            "8/8 [==============================] - 0s 9ms/step - loss: 0.5768 - accuracy: 0.7355 - val_loss: 0.5988 - val_accuracy: 0.7049\n",
            "Epoch 58/100\n",
            "8/8 [==============================] - 0s 13ms/step - loss: 0.5759 - accuracy: 0.7438 - val_loss: 0.5998 - val_accuracy: 0.7213\n",
            "Epoch 59/100\n",
            "8/8 [==============================] - 0s 11ms/step - loss: 0.5751 - accuracy: 0.7231 - val_loss: 0.5980 - val_accuracy: 0.7213\n",
            "Epoch 60/100\n",
            "8/8 [==============================] - 0s 9ms/step - loss: 0.5737 - accuracy: 0.7273 - val_loss: 0.5961 - val_accuracy: 0.7049\n",
            "Epoch 61/100\n",
            "8/8 [==============================] - 0s 16ms/step - loss: 0.5727 - accuracy: 0.7479 - val_loss: 0.5936 - val_accuracy: 0.6885\n",
            "Epoch 62/100\n",
            "8/8 [==============================] - 0s 10ms/step - loss: 0.5714 - accuracy: 0.7397 - val_loss: 0.5939 - val_accuracy: 0.7049\n",
            "Epoch 63/100\n",
            "8/8 [==============================] - 0s 20ms/step - loss: 0.5741 - accuracy: 0.7314 - val_loss: 0.6038 - val_accuracy: 0.6885\n",
            "Epoch 64/100\n",
            "8/8 [==============================] - 0s 9ms/step - loss: 0.5672 - accuracy: 0.7314 - val_loss: 0.5889 - val_accuracy: 0.7049\n",
            "Epoch 65/100\n",
            "8/8 [==============================] - 0s 9ms/step - loss: 0.5637 - accuracy: 0.7314 - val_loss: 0.5905 - val_accuracy: 0.6885\n",
            "Epoch 66/100\n",
            "8/8 [==============================] - 0s 11ms/step - loss: 0.5607 - accuracy: 0.7438 - val_loss: 0.5945 - val_accuracy: 0.6885\n",
            "Epoch 67/100\n",
            "8/8 [==============================] - 0s 15ms/step - loss: 0.5591 - accuracy: 0.7479 - val_loss: 0.5900 - val_accuracy: 0.6885\n",
            "Epoch 68/100\n",
            "8/8 [==============================] - 0s 10ms/step - loss: 0.5599 - accuracy: 0.7479 - val_loss: 0.5918 - val_accuracy: 0.6885\n",
            "Epoch 69/100\n",
            "8/8 [==============================] - 0s 11ms/step - loss: 0.5588 - accuracy: 0.7397 - val_loss: 0.5912 - val_accuracy: 0.6721\n",
            "Epoch 70/100\n",
            "8/8 [==============================] - 0s 25ms/step - loss: 0.5579 - accuracy: 0.7438 - val_loss: 0.5912 - val_accuracy: 0.6885\n",
            "Epoch 71/100\n",
            "8/8 [==============================] - 0s 19ms/step - loss: 0.5538 - accuracy: 0.7479 - val_loss: 0.5884 - val_accuracy: 0.6885\n",
            "Epoch 72/100\n",
            "8/8 [==============================] - 0s 13ms/step - loss: 0.5564 - accuracy: 0.7438 - val_loss: 0.5855 - val_accuracy: 0.6721\n",
            "Epoch 73/100\n",
            "8/8 [==============================] - 0s 9ms/step - loss: 0.5543 - accuracy: 0.7355 - val_loss: 0.5876 - val_accuracy: 0.6721\n",
            "Epoch 74/100\n",
            "8/8 [==============================] - 0s 10ms/step - loss: 0.5617 - accuracy: 0.7231 - val_loss: 0.5973 - val_accuracy: 0.6721\n",
            "Epoch 75/100\n",
            "8/8 [==============================] - 0s 7ms/step - loss: 0.5537 - accuracy: 0.7397 - val_loss: 0.5886 - val_accuracy: 0.6885\n",
            "Epoch 76/100\n",
            "8/8 [==============================] - 0s 9ms/step - loss: 0.5551 - accuracy: 0.7397 - val_loss: 0.5857 - val_accuracy: 0.6885\n",
            "Epoch 77/100\n",
            "8/8 [==============================] - 0s 9ms/step - loss: 0.5539 - accuracy: 0.7355 - val_loss: 0.5879 - val_accuracy: 0.6721\n",
            "Epoch 78/100\n",
            "8/8 [==============================] - 0s 10ms/step - loss: 0.5503 - accuracy: 0.7562 - val_loss: 0.5889 - val_accuracy: 0.6721\n",
            "Epoch 79/100\n",
            "8/8 [==============================] - 0s 10ms/step - loss: 0.5475 - accuracy: 0.7438 - val_loss: 0.5815 - val_accuracy: 0.6721\n",
            "Epoch 80/100\n",
            "8/8 [==============================] - 0s 9ms/step - loss: 0.5488 - accuracy: 0.7355 - val_loss: 0.5802 - val_accuracy: 0.6721\n",
            "Epoch 81/100\n",
            "8/8 [==============================] - 0s 9ms/step - loss: 0.5473 - accuracy: 0.7479 - val_loss: 0.5830 - val_accuracy: 0.6721\n",
            "Epoch 82/100\n",
            "8/8 [==============================] - 0s 14ms/step - loss: 0.5438 - accuracy: 0.7562 - val_loss: 0.5810 - val_accuracy: 0.6721\n",
            "Epoch 83/100\n",
            "8/8 [==============================] - 0s 17ms/step - loss: 0.5453 - accuracy: 0.7397 - val_loss: 0.5805 - val_accuracy: 0.6721\n",
            "Epoch 84/100\n",
            "8/8 [==============================] - 0s 9ms/step - loss: 0.5432 - accuracy: 0.7438 - val_loss: 0.5843 - val_accuracy: 0.6721\n",
            "Epoch 85/100\n",
            "8/8 [==============================] - 0s 11ms/step - loss: 0.5416 - accuracy: 0.7438 - val_loss: 0.5817 - val_accuracy: 0.6721\n",
            "Epoch 86/100\n",
            "8/8 [==============================] - 0s 7ms/step - loss: 0.5427 - accuracy: 0.7397 - val_loss: 0.5787 - val_accuracy: 0.6721\n",
            "Epoch 87/100\n",
            "8/8 [==============================] - 0s 7ms/step - loss: 0.5410 - accuracy: 0.7479 - val_loss: 0.5795 - val_accuracy: 0.6721\n",
            "Epoch 88/100\n",
            "8/8 [==============================] - 0s 6ms/step - loss: 0.5384 - accuracy: 0.7438 - val_loss: 0.5804 - val_accuracy: 0.6721\n",
            "Epoch 89/100\n",
            "8/8 [==============================] - 0s 12ms/step - loss: 0.5396 - accuracy: 0.7438 - val_loss: 0.5786 - val_accuracy: 0.6721\n",
            "Epoch 90/100\n",
            "8/8 [==============================] - 0s 15ms/step - loss: 0.5370 - accuracy: 0.7438 - val_loss: 0.5782 - val_accuracy: 0.6721\n",
            "Epoch 91/100\n",
            "8/8 [==============================] - 0s 9ms/step - loss: 0.5359 - accuracy: 0.7438 - val_loss: 0.5776 - val_accuracy: 0.6721\n",
            "Epoch 92/100\n",
            "8/8 [==============================] - 0s 11ms/step - loss: 0.5365 - accuracy: 0.7479 - val_loss: 0.5742 - val_accuracy: 0.6721\n",
            "Epoch 93/100\n",
            "8/8 [==============================] - 0s 14ms/step - loss: 0.5362 - accuracy: 0.7438 - val_loss: 0.5803 - val_accuracy: 0.6721\n",
            "Epoch 94/100\n",
            "8/8 [==============================] - 0s 17ms/step - loss: 0.5333 - accuracy: 0.7438 - val_loss: 0.5780 - val_accuracy: 0.6721\n",
            "Epoch 95/100\n",
            "8/8 [==============================] - 0s 10ms/step - loss: 0.5326 - accuracy: 0.7479 - val_loss: 0.5729 - val_accuracy: 0.6721\n",
            "Epoch 96/100\n",
            "8/8 [==============================] - 0s 14ms/step - loss: 0.5330 - accuracy: 0.7397 - val_loss: 0.5724 - val_accuracy: 0.6721\n",
            "Epoch 97/100\n",
            "8/8 [==============================] - 0s 22ms/step - loss: 0.5313 - accuracy: 0.7438 - val_loss: 0.5740 - val_accuracy: 0.6721\n",
            "Epoch 98/100\n",
            "8/8 [==============================] - 0s 21ms/step - loss: 0.5300 - accuracy: 0.7438 - val_loss: 0.5764 - val_accuracy: 0.6721\n",
            "Epoch 99/100\n",
            "8/8 [==============================] - 0s 13ms/step - loss: 0.5294 - accuracy: 0.7438 - val_loss: 0.5757 - val_accuracy: 0.6721\n",
            "Epoch 100/100\n",
            "8/8 [==============================] - 0s 19ms/step - loss: 0.5308 - accuracy: 0.7479 - val_loss: 0.5735 - val_accuracy: 0.6721\n",
            "2/2 [==============================] - 0s 8ms/step - loss: 0.5735 - accuracy: 0.6721\n",
            "Accuracy = 0.6721\n"
          ]
        },
        {
          "output_type": "display_data",
          "data": {
            "text/plain": [
              "<Figure size 1008x432 with 1 Axes>"
            ],
            "image/png": "[encoded data removed]"
          },
          "metadata": {
            "needs_background": "light"
          }
        }
      ]
    },
    {
      "cell_type": "code",
      "source": [],
      "metadata": {
        "id": "kAayQd5hIjEB"
      },
      "execution_count": null,
      "outputs": []
    }
  ]
}